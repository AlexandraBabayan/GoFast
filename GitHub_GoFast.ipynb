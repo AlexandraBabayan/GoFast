{
 "cells": [
  {
   "cell_type": "markdown",
   "id": "8c28a7cc",
   "metadata": {},
   "source": [
    "***Проект \"Статистический анализ данных. Сервис аренды самокатов \"GoFast\"***\n",
    "\n",
    "Цель проекта - проверить гипотезы , которые могут помочь бизнесу аренды самокатов GoFast вырасти.\n",
    "\n",
    "***План работ:***\n",
    "\n",
    "***1)*** Изучить информацию из таблиц users, rides, subscriptions, провести предобработку данных: проверить на наличие дубликатов и избавиться от них, изменить тип данных там, где нужно.\n",
    "\n",
    "***2)*** Описать и визуализировать информацию о пользователях и поездках:\n",
    "    \n",
    "   -  Частота встречаемости городов;\n",
    "   \n",
    "   -  Соотношение пользователей с подпиской и без подписки;\n",
    "   \n",
    "   -  Возраст пользователей;\n",
    "   \n",
    "   -  Расстояние, которое пользователь преодолел за одну поездку;\n",
    "   \n",
    "   -  Продолжительность поездок.\n",
    "   \n",
    "***3)*** Объединить  данные из трех таблиц в одну и разделить пользователей с подпиской и пользователей без подписки, создав два отдельных файла. Визуализировать информацию о расстоянии и времени поездок для пользователей обеих категорий.\n",
    "\n",
    "***4)*** Посчитать помесячную выручку, которую принес каждый пользователь.\n",
    "\n",
    "***5)*** Проверить следующие гипотезы:\n",
    " - Пользователи с подпиской больше времени на поездки.\n",
    " - Среднее расстояние, которое проезжают пользователи с подпиской за одну поездку, не превышает 3130 метров.\n",
    " - Помесячная выручка от пользователей с подпиской по месяцам выше, чем выручка от пользователей без подписки. \n",
    " \n",
    "Указать, какой тест нужно использовать для проверки гипотезы о том, что количество обращений в техподдержку значимо снизится после обновления серверов."
   ]
  },
  {
   "cell_type": "code",
   "execution_count": 2,
   "id": "01a0545d",
   "metadata": {},
   "outputs": [],
   "source": [
    "import pandas as pd\n",
    "import matplotlib.pyplot as plt\n",
    "import seaborn as sns\n",
    "import numpy\n",
    "from matplotlib import pyplot\n",
    "from matplotlib.pyplot import figure\n",
    "import numpy as np\n",
    "from datetime import date\n",
    "from math import factorial\n",
    "from math import sqrt\n",
    "from scipy import stats\n",
    "from scipy import stats as st\n",
    "from scipy.stats import binom"
   ]
  },
  {
   "cell_type": "markdown",
   "id": "3a3f840b",
   "metadata": {},
   "source": [
    "#### Шаг 1. Загрузка данных"
   ]
  },
  {
   "cell_type": "code",
   "execution_count": 3,
   "id": "4b171114",
   "metadata": {},
   "outputs": [],
   "source": [
    "users = pd.read_csv('https://code.s3.yandex.net/datasets/users_go.csv')\n",
    "rides = pd.read_csv('https://code.s3.yandex.net/datasets/rides_go.csv')\n",
    "subscriptions = pd.read_csv('https://code.s3.yandex.net/datasets/subscriptions_go.csv')"
   ]
  },
  {
   "cell_type": "markdown",
   "id": "c3ca9ef8",
   "metadata": {},
   "source": [
    "Выведем первые строки из файла users и посмотрим общую информацию."
   ]
  },
  {
   "cell_type": "code",
   "execution_count": 22,
   "id": "ee706487",
   "metadata": {},
   "outputs": [
    {
     "data": {
      "text/html": [
       "<div>\n",
       "<style scoped>\n",
       "    .dataframe tbody tr th:only-of-type {\n",
       "        vertical-align: middle;\n",
       "    }\n",
       "\n",
       "    .dataframe tbody tr th {\n",
       "        vertical-align: top;\n",
       "    }\n",
       "\n",
       "    .dataframe thead th {\n",
       "        text-align: right;\n",
       "    }\n",
       "</style>\n",
       "<table border=\"1\" class=\"dataframe\">\n",
       "  <thead>\n",
       "    <tr style=\"text-align: right;\">\n",
       "      <th></th>\n",
       "      <th>user_id</th>\n",
       "      <th>name</th>\n",
       "      <th>age</th>\n",
       "      <th>city</th>\n",
       "      <th>subscription_type</th>\n",
       "    </tr>\n",
       "  </thead>\n",
       "  <tbody>\n",
       "    <tr>\n",
       "      <th>0</th>\n",
       "      <td>1</td>\n",
       "      <td>Кира</td>\n",
       "      <td>22</td>\n",
       "      <td>Тюмень</td>\n",
       "      <td>ultra</td>\n",
       "    </tr>\n",
       "    <tr>\n",
       "      <th>1</th>\n",
       "      <td>2</td>\n",
       "      <td>Станислав</td>\n",
       "      <td>31</td>\n",
       "      <td>Омск</td>\n",
       "      <td>ultra</td>\n",
       "    </tr>\n",
       "    <tr>\n",
       "      <th>2</th>\n",
       "      <td>3</td>\n",
       "      <td>Алексей</td>\n",
       "      <td>20</td>\n",
       "      <td>Москва</td>\n",
       "      <td>ultra</td>\n",
       "    </tr>\n",
       "    <tr>\n",
       "      <th>3</th>\n",
       "      <td>4</td>\n",
       "      <td>Константин</td>\n",
       "      <td>26</td>\n",
       "      <td>Ростов-на-Дону</td>\n",
       "      <td>ultra</td>\n",
       "    </tr>\n",
       "    <tr>\n",
       "      <th>4</th>\n",
       "      <td>5</td>\n",
       "      <td>Адель</td>\n",
       "      <td>28</td>\n",
       "      <td>Омск</td>\n",
       "      <td>ultra</td>\n",
       "    </tr>\n",
       "  </tbody>\n",
       "</table>\n",
       "</div>"
      ],
      "text/plain": [
       "   user_id        name  age            city subscription_type\n",
       "0        1        Кира   22          Тюмень             ultra\n",
       "1        2   Станислав   31            Омск             ultra\n",
       "2        3     Алексей   20          Москва             ultra\n",
       "3        4  Константин   26  Ростов-на-Дону             ultra\n",
       "4        5       Адель   28            Омск             ultra"
      ]
     },
     "metadata": {},
     "output_type": "display_data"
    },
    {
     "name": "stdout",
     "output_type": "stream",
     "text": [
      "<class 'pandas.core.frame.DataFrame'>\n",
      "RangeIndex: 1565 entries, 0 to 1564\n",
      "Data columns (total 5 columns):\n",
      " #   Column             Non-Null Count  Dtype \n",
      "---  ------             --------------  ----- \n",
      " 0   user_id            1565 non-null   int64 \n",
      " 1   name               1565 non-null   object\n",
      " 2   age                1565 non-null   int64 \n",
      " 3   city               1565 non-null   object\n",
      " 4   subscription_type  1565 non-null   object\n",
      "dtypes: int64(2), object(3)\n",
      "memory usage: 61.3+ KB\n"
     ]
    },
    {
     "data": {
      "text/plain": [
       "None"
      ]
     },
     "metadata": {},
     "output_type": "display_data"
    }
   ],
   "source": [
    "display(users.head())\n",
    "display(users.info())"
   ]
  },
  {
   "cell_type": "markdown",
   "id": "d4c83b62",
   "metadata": {},
   "source": [
    "Выведем первые строки из файла rides и посмотрим общую информацию."
   ]
  },
  {
   "cell_type": "code",
   "execution_count": 6,
   "id": "f8b037b5",
   "metadata": {
    "scrolled": true
   },
   "outputs": [
    {
     "data": {
      "text/html": [
       "<div>\n",
       "<style scoped>\n",
       "    .dataframe tbody tr th:only-of-type {\n",
       "        vertical-align: middle;\n",
       "    }\n",
       "\n",
       "    .dataframe tbody tr th {\n",
       "        vertical-align: top;\n",
       "    }\n",
       "\n",
       "    .dataframe thead th {\n",
       "        text-align: right;\n",
       "    }\n",
       "</style>\n",
       "<table border=\"1\" class=\"dataframe\">\n",
       "  <thead>\n",
       "    <tr style=\"text-align: right;\">\n",
       "      <th></th>\n",
       "      <th>user_id</th>\n",
       "      <th>distance</th>\n",
       "      <th>duration</th>\n",
       "      <th>date</th>\n",
       "    </tr>\n",
       "  </thead>\n",
       "  <tbody>\n",
       "    <tr>\n",
       "      <th>0</th>\n",
       "      <td>1</td>\n",
       "      <td>4409.919140</td>\n",
       "      <td>25.599769</td>\n",
       "      <td>2021-01-01</td>\n",
       "    </tr>\n",
       "    <tr>\n",
       "      <th>1</th>\n",
       "      <td>1</td>\n",
       "      <td>2617.592153</td>\n",
       "      <td>15.816871</td>\n",
       "      <td>2021-01-18</td>\n",
       "    </tr>\n",
       "    <tr>\n",
       "      <th>2</th>\n",
       "      <td>1</td>\n",
       "      <td>754.159807</td>\n",
       "      <td>6.232113</td>\n",
       "      <td>2021-04-20</td>\n",
       "    </tr>\n",
       "    <tr>\n",
       "      <th>3</th>\n",
       "      <td>1</td>\n",
       "      <td>2694.783254</td>\n",
       "      <td>18.511000</td>\n",
       "      <td>2021-08-11</td>\n",
       "    </tr>\n",
       "    <tr>\n",
       "      <th>4</th>\n",
       "      <td>1</td>\n",
       "      <td>4028.687306</td>\n",
       "      <td>26.265803</td>\n",
       "      <td>2021-08-28</td>\n",
       "    </tr>\n",
       "  </tbody>\n",
       "</table>\n",
       "</div>"
      ],
      "text/plain": [
       "   user_id     distance   duration        date\n",
       "0        1  4409.919140  25.599769  2021-01-01\n",
       "1        1  2617.592153  15.816871  2021-01-18\n",
       "2        1   754.159807   6.232113  2021-04-20\n",
       "3        1  2694.783254  18.511000  2021-08-11\n",
       "4        1  4028.687306  26.265803  2021-08-28"
      ]
     },
     "metadata": {},
     "output_type": "display_data"
    },
    {
     "name": "stdout",
     "output_type": "stream",
     "text": [
      "<class 'pandas.core.frame.DataFrame'>\n",
      "RangeIndex: 18068 entries, 0 to 18067\n",
      "Data columns (total 4 columns):\n",
      " #   Column    Non-Null Count  Dtype  \n",
      "---  ------    --------------  -----  \n",
      " 0   user_id   18068 non-null  int64  \n",
      " 1   distance  18068 non-null  float64\n",
      " 2   duration  18068 non-null  float64\n",
      " 3   date      18068 non-null  object \n",
      "dtypes: float64(2), int64(1), object(1)\n",
      "memory usage: 564.8+ KB\n"
     ]
    },
    {
     "data": {
      "text/plain": [
       "None"
      ]
     },
     "metadata": {},
     "output_type": "display_data"
    }
   ],
   "source": [
    "display(rides.head())\n",
    "display(rides.info())"
   ]
  },
  {
   "cell_type": "markdown",
   "id": "e25dc32a",
   "metadata": {},
   "source": [
    "Выведем первые строки из файла subscriptions и посмотрим общую информацию."
   ]
  },
  {
   "cell_type": "code",
   "execution_count": 7,
   "id": "8c6981d7",
   "metadata": {},
   "outputs": [
    {
     "data": {
      "text/html": [
       "<div>\n",
       "<style scoped>\n",
       "    .dataframe tbody tr th:only-of-type {\n",
       "        vertical-align: middle;\n",
       "    }\n",
       "\n",
       "    .dataframe tbody tr th {\n",
       "        vertical-align: top;\n",
       "    }\n",
       "\n",
       "    .dataframe thead th {\n",
       "        text-align: right;\n",
       "    }\n",
       "</style>\n",
       "<table border=\"1\" class=\"dataframe\">\n",
       "  <thead>\n",
       "    <tr style=\"text-align: right;\">\n",
       "      <th></th>\n",
       "      <th>subscription_type</th>\n",
       "      <th>minute_price</th>\n",
       "      <th>start_ride_price</th>\n",
       "      <th>subscription_fee</th>\n",
       "    </tr>\n",
       "  </thead>\n",
       "  <tbody>\n",
       "    <tr>\n",
       "      <th>0</th>\n",
       "      <td>free</td>\n",
       "      <td>8</td>\n",
       "      <td>50</td>\n",
       "      <td>0</td>\n",
       "    </tr>\n",
       "    <tr>\n",
       "      <th>1</th>\n",
       "      <td>ultra</td>\n",
       "      <td>6</td>\n",
       "      <td>0</td>\n",
       "      <td>199</td>\n",
       "    </tr>\n",
       "  </tbody>\n",
       "</table>\n",
       "</div>"
      ],
      "text/plain": [
       "  subscription_type  minute_price  start_ride_price  subscription_fee\n",
       "0              free             8                50                 0\n",
       "1             ultra             6                 0               199"
      ]
     },
     "metadata": {},
     "output_type": "display_data"
    },
    {
     "name": "stdout",
     "output_type": "stream",
     "text": [
      "<class 'pandas.core.frame.DataFrame'>\n",
      "RangeIndex: 2 entries, 0 to 1\n",
      "Data columns (total 4 columns):\n",
      " #   Column             Non-Null Count  Dtype \n",
      "---  ------             --------------  ----- \n",
      " 0   subscription_type  2 non-null      object\n",
      " 1   minute_price       2 non-null      int64 \n",
      " 2   start_ride_price   2 non-null      int64 \n",
      " 3   subscription_fee   2 non-null      int64 \n",
      "dtypes: int64(3), object(1)\n",
      "memory usage: 196.0+ bytes\n"
     ]
    },
    {
     "data": {
      "text/plain": [
       "None"
      ]
     },
     "metadata": {},
     "output_type": "display_data"
    }
   ],
   "source": [
    "display(subscriptions.head())\n",
    "display(subscriptions.info())"
   ]
  },
  {
   "cell_type": "markdown",
   "id": "488fa4c8",
   "metadata": {},
   "source": [
    "Мы загрузили  три таблицы:\n",
    "\n",
    "- В первой таблице собрана информация по пользователям, всего 1565 строк, типы данных корректные, изменять ничего не нужно.\n",
    "- Во второй таблице собрана информация по поездкам: расстояние, длительность и дата. Тип данных в столбце \"дата\" указан не корретно, object нужно поменять на datetime.\n",
    "- В третьей таблице собрана информация по тарифам. Там всего две строки (два тарифа), указаны типы тарифов, стоимость минуты поездки и абонентская плата. "
   ]
  },
  {
   "cell_type": "markdown",
   "id": "6674244b",
   "metadata": {},
   "source": [
    "#### Шаг 2. Предобработка данных"
   ]
  },
  {
   "cell_type": "markdown",
   "id": "c93729da",
   "metadata": {},
   "source": [
    "Поменяем тип данных в столбце date файла rides."
   ]
  },
  {
   "cell_type": "code",
   "execution_count": 4,
   "id": "2c792d87",
   "metadata": {},
   "outputs": [
    {
     "name": "stdout",
     "output_type": "stream",
     "text": [
      "<class 'pandas.core.frame.DataFrame'>\n",
      "RangeIndex: 18068 entries, 0 to 18067\n",
      "Data columns (total 4 columns):\n",
      " #   Column    Non-Null Count  Dtype         \n",
      "---  ------    --------------  -----         \n",
      " 0   user_id   18068 non-null  int64         \n",
      " 1   distance  18068 non-null  float64       \n",
      " 2   duration  18068 non-null  float64       \n",
      " 3   date      18068 non-null  datetime64[ns]\n",
      "dtypes: datetime64[ns](1), float64(2), int64(1)\n",
      "memory usage: 564.8 KB\n"
     ]
    },
    {
     "data": {
      "text/html": [
       "<div>\n",
       "<style scoped>\n",
       "    .dataframe tbody tr th:only-of-type {\n",
       "        vertical-align: middle;\n",
       "    }\n",
       "\n",
       "    .dataframe tbody tr th {\n",
       "        vertical-align: top;\n",
       "    }\n",
       "\n",
       "    .dataframe thead th {\n",
       "        text-align: right;\n",
       "    }\n",
       "</style>\n",
       "<table border=\"1\" class=\"dataframe\">\n",
       "  <thead>\n",
       "    <tr style=\"text-align: right;\">\n",
       "      <th></th>\n",
       "      <th>user_id</th>\n",
       "      <th>distance</th>\n",
       "      <th>duration</th>\n",
       "      <th>date</th>\n",
       "    </tr>\n",
       "  </thead>\n",
       "  <tbody>\n",
       "    <tr>\n",
       "      <th>0</th>\n",
       "      <td>1</td>\n",
       "      <td>4409.919140</td>\n",
       "      <td>25.599769</td>\n",
       "      <td>2021-01-01</td>\n",
       "    </tr>\n",
       "    <tr>\n",
       "      <th>1</th>\n",
       "      <td>1</td>\n",
       "      <td>2617.592153</td>\n",
       "      <td>15.816871</td>\n",
       "      <td>2021-01-18</td>\n",
       "    </tr>\n",
       "    <tr>\n",
       "      <th>2</th>\n",
       "      <td>1</td>\n",
       "      <td>754.159807</td>\n",
       "      <td>6.232113</td>\n",
       "      <td>2021-04-20</td>\n",
       "    </tr>\n",
       "    <tr>\n",
       "      <th>3</th>\n",
       "      <td>1</td>\n",
       "      <td>2694.783254</td>\n",
       "      <td>18.511000</td>\n",
       "      <td>2021-08-11</td>\n",
       "    </tr>\n",
       "    <tr>\n",
       "      <th>4</th>\n",
       "      <td>1</td>\n",
       "      <td>4028.687306</td>\n",
       "      <td>26.265803</td>\n",
       "      <td>2021-08-28</td>\n",
       "    </tr>\n",
       "  </tbody>\n",
       "</table>\n",
       "</div>"
      ],
      "text/plain": [
       "   user_id     distance   duration       date\n",
       "0        1  4409.919140  25.599769 2021-01-01\n",
       "1        1  2617.592153  15.816871 2021-01-18\n",
       "2        1   754.159807   6.232113 2021-04-20\n",
       "3        1  2694.783254  18.511000 2021-08-11\n",
       "4        1  4028.687306  26.265803 2021-08-28"
      ]
     },
     "execution_count": 4,
     "metadata": {},
     "output_type": "execute_result"
    }
   ],
   "source": [
    "rides['date'] = pd.to_datetime(rides['date'], format = 'ISO8601')\n",
    "rides.info()\n",
    "rides.head()"
   ]
  },
  {
   "cell_type": "markdown",
   "id": "de3d1ed8",
   "metadata": {},
   "source": [
    "Добавим столбец с номером месяца в таблицу rides. Предварительно проверим, за какие года представлена информация, чтобы в дальнейшем не искажать данные в столбце с месяцем."
   ]
  },
  {
   "cell_type": "code",
   "execution_count": 5,
   "id": "a0c88cc3",
   "metadata": {},
   "outputs": [
    {
     "data": {
      "text/plain": [
       "array([2021])"
      ]
     },
     "execution_count": 5,
     "metadata": {},
     "output_type": "execute_result"
    }
   ],
   "source": [
    "rides['date'].dt.year.unique()"
   ]
  },
  {
   "cell_type": "markdown",
   "id": "5648393b",
   "metadata": {},
   "source": [
    "Видим, что информация только за 2021 год, поэтому при расчетах данных по месяцам не нужно разделять их на разные года."
   ]
  },
  {
   "cell_type": "code",
   "execution_count": 6,
   "id": "44770a0d",
   "metadata": {},
   "outputs": [
    {
     "data": {
      "text/html": [
       "<div>\n",
       "<style scoped>\n",
       "    .dataframe tbody tr th:only-of-type {\n",
       "        vertical-align: middle;\n",
       "    }\n",
       "\n",
       "    .dataframe tbody tr th {\n",
       "        vertical-align: top;\n",
       "    }\n",
       "\n",
       "    .dataframe thead th {\n",
       "        text-align: right;\n",
       "    }\n",
       "</style>\n",
       "<table border=\"1\" class=\"dataframe\">\n",
       "  <thead>\n",
       "    <tr style=\"text-align: right;\">\n",
       "      <th></th>\n",
       "      <th>user_id</th>\n",
       "      <th>distance</th>\n",
       "      <th>duration</th>\n",
       "      <th>date</th>\n",
       "      <th>month</th>\n",
       "    </tr>\n",
       "  </thead>\n",
       "  <tbody>\n",
       "    <tr>\n",
       "      <th>0</th>\n",
       "      <td>1</td>\n",
       "      <td>4409.919140</td>\n",
       "      <td>25.599769</td>\n",
       "      <td>2021-01-01</td>\n",
       "      <td>1</td>\n",
       "    </tr>\n",
       "    <tr>\n",
       "      <th>1</th>\n",
       "      <td>1</td>\n",
       "      <td>2617.592153</td>\n",
       "      <td>15.816871</td>\n",
       "      <td>2021-01-18</td>\n",
       "      <td>1</td>\n",
       "    </tr>\n",
       "    <tr>\n",
       "      <th>2</th>\n",
       "      <td>1</td>\n",
       "      <td>754.159807</td>\n",
       "      <td>6.232113</td>\n",
       "      <td>2021-04-20</td>\n",
       "      <td>4</td>\n",
       "    </tr>\n",
       "    <tr>\n",
       "      <th>3</th>\n",
       "      <td>1</td>\n",
       "      <td>2694.783254</td>\n",
       "      <td>18.511000</td>\n",
       "      <td>2021-08-11</td>\n",
       "      <td>8</td>\n",
       "    </tr>\n",
       "    <tr>\n",
       "      <th>4</th>\n",
       "      <td>1</td>\n",
       "      <td>4028.687306</td>\n",
       "      <td>26.265803</td>\n",
       "      <td>2021-08-28</td>\n",
       "      <td>8</td>\n",
       "    </tr>\n",
       "  </tbody>\n",
       "</table>\n",
       "</div>"
      ],
      "text/plain": [
       "   user_id     distance   duration       date  month\n",
       "0        1  4409.919140  25.599769 2021-01-01      1\n",
       "1        1  2617.592153  15.816871 2021-01-18      1\n",
       "2        1   754.159807   6.232113 2021-04-20      4\n",
       "3        1  2694.783254  18.511000 2021-08-11      8\n",
       "4        1  4028.687306  26.265803 2021-08-28      8"
      ]
     },
     "execution_count": 6,
     "metadata": {},
     "output_type": "execute_result"
    }
   ],
   "source": [
    "rides['month'] = rides['date'].dt.month\n",
    "rides.head()"
   ]
  },
  {
   "cell_type": "markdown",
   "id": "ac26c423",
   "metadata": {},
   "source": [
    "Проверим таблицы на наличие пропусков."
   ]
  },
  {
   "cell_type": "code",
   "execution_count": 12,
   "id": "d76babb5",
   "metadata": {},
   "outputs": [
    {
     "name": "stdout",
     "output_type": "stream",
     "text": [
      "user_id              0\n",
      "name                 0\n",
      "age                  0\n",
      "city                 0\n",
      "subscription_type    0\n",
      "dtype: int64\n"
     ]
    }
   ],
   "source": [
    "print(users.isna().sum())"
   ]
  },
  {
   "cell_type": "code",
   "execution_count": 13,
   "id": "d9d974b2",
   "metadata": {},
   "outputs": [
    {
     "name": "stdout",
     "output_type": "stream",
     "text": [
      "user_id     0\n",
      "distance    0\n",
      "duration    0\n",
      "date        0\n",
      "dtype: int64\n"
     ]
    }
   ],
   "source": [
    "print(rides.isna().sum())"
   ]
  },
  {
   "cell_type": "code",
   "execution_count": 14,
   "id": "5598cf2b",
   "metadata": {},
   "outputs": [
    {
     "name": "stdout",
     "output_type": "stream",
     "text": [
      "subscription_type    0\n",
      "minute_price         0\n",
      "start_ride_price     0\n",
      "subscription_fee     0\n",
      "dtype: int64\n"
     ]
    }
   ],
   "source": [
    "print(subscriptions.isna().sum())"
   ]
  },
  {
   "cell_type": "markdown",
   "id": "8759fdd2",
   "metadata": {},
   "source": [
    "Проверим файлы на дубликаты."
   ]
  },
  {
   "cell_type": "code",
   "execution_count": 15,
   "id": "2c513c7e",
   "metadata": {},
   "outputs": [
    {
     "data": {
      "text/plain": [
       "31"
      ]
     },
     "execution_count": 15,
     "metadata": {},
     "output_type": "execute_result"
    }
   ],
   "source": [
    "users.duplicated().sum()"
   ]
  },
  {
   "cell_type": "code",
   "execution_count": 16,
   "id": "e1a4cdb7",
   "metadata": {},
   "outputs": [
    {
     "name": "stdout",
     "output_type": "stream",
     "text": [
      "      user_id        name  age            city subscription_type\n",
      "1534      293       Агата   26       Краснодар             ultra\n",
      "1535       16      Амалия   27       Краснодар             ultra\n",
      "1536      909  Константин   20    Екатеринбург              free\n",
      "1537      403      Полина   19            Сочи             ultra\n",
      "1538      908      Рустам   30          Тюмень              free\n",
      "1539       43    Стефания   22            Омск             ultra\n",
      "1540      127       Павел   25       Пятигорск             ultra\n",
      "1541      659       Злата   27  Ростов-на-Дону             ultra\n",
      "1542      204      Руслан   30       Пятигорск             ultra\n",
      "1543      153      Герман   23          Москва             ultra\n",
      "1544     1245      Регина   27       Пятигорск              free\n",
      "1545      807   Александр   28    Екатеринбург              free\n",
      "1546      924       Мария   23       Пятигорск              free\n",
      "1547      635      Герман   21          Москва             ultra\n",
      "1548      136     Марсель   25          Тюмень             ultra\n",
      "1549      108       Влада   29          Тюмень             ultra\n",
      "1550      737     Мелания   27  Ростов-на-Дону              free\n",
      "1551      666      Зарина   29          Москва             ultra\n",
      "1552      297        Егор   33       Пятигорск             ultra\n",
      "1553      121       Алина   25       Пятигорск             ultra\n",
      "1554     1198       Демид   29  Ростов-на-Дону              free\n",
      "1555       72      Никита   25          Москва             ultra\n",
      "1556      422      Кирилл   27            Сочи             ultra\n",
      "1557      611    Владимир   28            Омск             ultra\n",
      "1558     1237     Евгения   23          Тюмень              free\n",
      "1559      209      Андрей   23            Омск             ultra\n",
      "1560      829       Федор   29       Пятигорск              free\n",
      "1561      809        Юрий   26            Сочи              free\n",
      "1562      307      Ясмина   19       Краснодар             ultra\n",
      "1563       47        Юрий   28          Тюмень             ultra\n",
      "1564     1045     Артемий   28  Ростов-на-Дону              free\n"
     ]
    }
   ],
   "source": [
    "users_duplicates = users[users.duplicated()]\n",
    "print(users_duplicates)"
   ]
  },
  {
   "cell_type": "markdown",
   "id": "d4fb5419",
   "metadata": {},
   "source": [
    "Удалим дубликаты в таблице users."
   ]
  },
  {
   "cell_type": "code",
   "execution_count": 7,
   "id": "1c7cbade",
   "metadata": {},
   "outputs": [
    {
     "data": {
      "text/plain": [
       "0"
      ]
     },
     "execution_count": 7,
     "metadata": {},
     "output_type": "execute_result"
    }
   ],
   "source": [
    "users = users.drop_duplicates().reset_index()\n",
    "users.duplicated().sum()"
   ]
  },
  {
   "cell_type": "code",
   "execution_count": 8,
   "id": "e2ce3c97",
   "metadata": {},
   "outputs": [
    {
     "data": {
      "text/plain": [
       "0"
      ]
     },
     "execution_count": 8,
     "metadata": {},
     "output_type": "execute_result"
    }
   ],
   "source": [
    "rides.duplicated().sum()"
   ]
  },
  {
   "cell_type": "markdown",
   "id": "90d0ae28",
   "metadata": {},
   "source": [
    "Таблицу с типами подписок проверять на дулбикаты не нужно, там всего 2 строки."
   ]
  },
  {
   "cell_type": "markdown",
   "id": "799b2ba7",
   "metadata": {},
   "source": [
    "Изучив информацию в таблицах мы внесли следующие изменения:\n",
    " - Поменяли тип данных в столбце дат таблицы rides на datetime;\n",
    " - Добавили столбец с номером месяца, в котором были совершены поездки;\n",
    " - Удалили 31 строк-дубликатов (0,17% от всего объема строк)."
   ]
  },
  {
   "cell_type": "markdown",
   "id": "aafec804",
   "metadata": {},
   "source": [
    "#### Шаг 3. Исследовательский анализ данных"
   ]
  },
  {
   "cell_type": "markdown",
   "id": "cbdffc07",
   "metadata": {},
   "source": [
    "Посмотрим количество подписчиков в разных городах."
   ]
  },
  {
   "cell_type": "code",
   "execution_count": 9,
   "id": "9304177c",
   "metadata": {},
   "outputs": [
    {
     "data": {
      "text/html": [
       "<div>\n",
       "<style scoped>\n",
       "    .dataframe tbody tr th:only-of-type {\n",
       "        vertical-align: middle;\n",
       "    }\n",
       "\n",
       "    .dataframe tbody tr th {\n",
       "        vertical-align: top;\n",
       "    }\n",
       "\n",
       "    .dataframe thead th {\n",
       "        text-align: right;\n",
       "    }\n",
       "</style>\n",
       "<table border=\"1\" class=\"dataframe\">\n",
       "  <thead>\n",
       "    <tr style=\"text-align: right;\">\n",
       "      <th></th>\n",
       "      <th>count</th>\n",
       "      <th>rate</th>\n",
       "    </tr>\n",
       "    <tr>\n",
       "      <th>city</th>\n",
       "      <th></th>\n",
       "      <th></th>\n",
       "    </tr>\n",
       "  </thead>\n",
       "  <tbody>\n",
       "    <tr>\n",
       "      <th>Пятигорск</th>\n",
       "      <td>219</td>\n",
       "      <td>0.143</td>\n",
       "    </tr>\n",
       "    <tr>\n",
       "      <th>Екатеринбург</th>\n",
       "      <td>204</td>\n",
       "      <td>0.133</td>\n",
       "    </tr>\n",
       "    <tr>\n",
       "      <th>Ростов-на-Дону</th>\n",
       "      <td>198</td>\n",
       "      <td>0.129</td>\n",
       "    </tr>\n",
       "    <tr>\n",
       "      <th>Краснодар</th>\n",
       "      <td>193</td>\n",
       "      <td>0.126</td>\n",
       "    </tr>\n",
       "    <tr>\n",
       "      <th>Сочи</th>\n",
       "      <td>189</td>\n",
       "      <td>0.123</td>\n",
       "    </tr>\n",
       "    <tr>\n",
       "      <th>Омск</th>\n",
       "      <td>183</td>\n",
       "      <td>0.119</td>\n",
       "    </tr>\n",
       "    <tr>\n",
       "      <th>Тюмень</th>\n",
       "      <td>180</td>\n",
       "      <td>0.117</td>\n",
       "    </tr>\n",
       "    <tr>\n",
       "      <th>Москва</th>\n",
       "      <td>168</td>\n",
       "      <td>0.110</td>\n",
       "    </tr>\n",
       "  </tbody>\n",
       "</table>\n",
       "</div>"
      ],
      "text/plain": [
       "                count   rate\n",
       "city                        \n",
       "Пятигорск         219  0.143\n",
       "Екатеринбург      204  0.133\n",
       "Ростов-на-Дону    198  0.129\n",
       "Краснодар         193  0.126\n",
       "Сочи              189  0.123\n",
       "Омск              183  0.119\n",
       "Тюмень            180  0.117\n",
       "Москва            168  0.110"
      ]
     },
     "execution_count": 9,
     "metadata": {},
     "output_type": "execute_result"
    }
   ],
   "source": [
    "users_grouped = users.pivot_table(index = 'city', values='user_id', aggfunc=('count'))\n",
    "users_grouped.columns = ['count']\n",
    "users_grouped['rate'] = round(users_grouped['count']/(users_grouped['count'].sum()), 3)\n",
    "users_grouped['rate'] = users_grouped['rate'].astype('float64')\n",
    "users_grouped.sort_values(by = 'rate', ascending = False)"
   ]
  },
  {
   "cell_type": "code",
   "execution_count": 10,
   "id": "97c1a995",
   "metadata": {},
   "outputs": [
    {
     "data": {
      "text/plain": [
       "Text(0, 0.5, 'Города')"
      ]
     },
     "execution_count": 10,
     "metadata": {},
     "output_type": "execute_result"
    },
    {
     "data": {
      "image/png": "[encoded data removed]",
      "text/plain": [
       "<Figure size 1200x400 with 1 Axes>"
      ]
     },
     "metadata": {},
     "output_type": "display_data"
    }
   ],
   "source": [
    "users_grouped_rate = users_grouped.drop('count', axis = 1)\n",
    "users_grouped_rate.sort_values(by = 'rate', ascending = False)\\\n",
    "        .plot(kind = 'barh', figsize = (12,4), rot = 0, legend = False, fontsize = 12)\n",
    "plt.title('Доля пользователей в разных городах' + \"\\n\", fontsize=15, color='SteelBlue')\n",
    "plt.xlabel('Доля пользователей из разных городов', fontsize=15)\n",
    "plt.ylabel('Города')"
   ]
  },
  {
   "cell_type": "markdown",
   "id": "dd37ed29",
   "metadata": {},
   "source": [
    "Как видно из таблицы и графика, минимальное число пользователей - в Москве (168 или 11% от общего числа), максимальное - в Пятигорске (219 или 14% от общего числа), в процентном соотношении пользователи распределены равномерно, нет перекосов в сторону какого-то города."
   ]
  },
  {
   "cell_type": "markdown",
   "id": "985cabc9",
   "metadata": {},
   "source": [
    "Сделаем визуализацию с помощью value_counts() и построим график, где будет не доля пользователей в каждом городе, а количество"
   ]
  },
  {
   "cell_type": "code",
   "execution_count": 11,
   "id": "4ea41214",
   "metadata": {},
   "outputs": [
    {
     "name": "stdout",
     "output_type": "stream",
     "text": [
      "city\n",
      "Пятигорск         219\n",
      "Екатеринбург      204\n",
      "Ростов-на-Дону    198\n",
      "Краснодар         193\n",
      "Сочи              189\n",
      "Омск              183\n",
      "Тюмень            180\n",
      "Москва            168\n",
      "Name: count, dtype: int64\n"
     ]
    },
    {
     "data": {
      "text/plain": [
       "Text(0, 0.5, 'Города')"
      ]
     },
     "execution_count": 11,
     "metadata": {},
     "output_type": "execute_result"
    },
    {
     "data": {
      "image/png": "[encoded data removed]",
      "text/plain": [
       "<Figure size 1200x400 with 1 Axes>"
      ]
     },
     "metadata": {},
     "output_type": "display_data"
    }
   ],
   "source": [
    "print(users['city'].value_counts())\n",
    "users['city'].value_counts().plot(kind = 'barh', figsize = (12,4), rot = 0, legend = False, fontsize = 12)\n",
    "plt.title('Число пользователей в разных городах' + \"\\n\", fontsize=15, color='SteelBlue')\n",
    "plt.xlabel('Число пользователей из разных городов', fontsize=15)\n",
    "plt.ylabel('Города')"
   ]
  },
  {
   "cell_type": "markdown",
   "id": "62a9aa15",
   "metadata": {},
   "source": [
    "Посмотрим соотношение пользовталей с подпиской и без. Сделаем два варианта графиков. Мне удобнее смотреть столбчатые диаграммы, но в данном случае так же корректно использовать круговую диаграмму для наглядности."
   ]
  },
  {
   "cell_type": "code",
   "execution_count": 12,
   "id": "d31c2f6d",
   "metadata": {},
   "outputs": [
    {
     "name": "stdout",
     "output_type": "stream",
     "text": [
      "                   user_id\n",
      "subscription_type         \n",
      "free                   835\n",
      "ultra                  699\n"
     ]
    },
    {
     "data": {
      "image/png": "[encoded data removed]",
      "text/plain": [
       "<Figure size 600x400 with 1 Axes>"
      ]
     },
     "metadata": {},
     "output_type": "display_data"
    },
    {
     "data": {
      "image/png": "[encoded data removed]",
      "text/plain": [
       "<Figure size 640x480 with 1 Axes>"
      ]
     },
     "metadata": {},
     "output_type": "display_data"
    }
   ],
   "source": [
    "print(users.pivot_table(index='subscription_type', values='user_id', aggfunc = 'count'))\n",
    "users.pivot_table(index='subscription_type', values='user_id', aggfunc = 'count').plot( title='Тип подписки', figsize=(6,4), kind='bar', grid = True, legend = False)\n",
    "plt.show()\n",
    "users.pivot_table(index='subscription_type', values='user_id', aggfunc = 'count').plot( title='Тип подписки', kind='pie', subplots=True, legend = False)\n",
    "plt.show()"
   ]
  },
  {
   "cell_type": "markdown",
   "id": "51cdbed9",
   "metadata": {},
   "source": [
    "Из таблицы и графика видим, что чуть больше половины клиентов (54,4% или 835 человек) пользуются сервисом без подписки, и чуть меньше половины (45,6% или 699 человек) купили подписку."
   ]
  },
  {
   "cell_type": "markdown",
   "id": "99157536",
   "metadata": {},
   "source": [
    "Смотрим возраст пользователей."
   ]
  },
  {
   "cell_type": "code",
   "execution_count": 13,
   "id": "70ac3814",
   "metadata": {},
   "outputs": [
    {
     "name": "stdout",
     "output_type": "stream",
     "text": [
      "     user_id\n",
      "age         \n",
      "12         4\n",
      "13         8\n",
      "14         9\n",
      "15        13\n",
      "16        19\n",
      "17        26\n",
      "18        46\n",
      "19        47\n",
      "20        71\n",
      "21        93\n",
      "22       119\n",
      "23       129\n",
      "24       132\n",
      "25       145\n",
      "26       131\n",
      "27       119\n",
      "28       112\n",
      "29        68\n",
      "30        68\n",
      "31        48\n",
      "32        41\n",
      "33        39\n",
      "34        19\n",
      "35        15\n",
      "36         6\n",
      "37         2\n",
      "38         3\n",
      "39         1\n",
      "43         1\n"
     ]
    },
    {
     "data": {
      "text/plain": [
       "count    1534.000000\n",
       "mean       24.903520\n",
       "std         4.572367\n",
       "min        12.000000\n",
       "25%        22.000000\n",
       "50%        25.000000\n",
       "75%        28.000000\n",
       "max        43.000000\n",
       "Name: age, dtype: float64"
      ]
     },
     "execution_count": 13,
     "metadata": {},
     "output_type": "execute_result"
    },
    {
     "data": {
      "image/png": "[encoded data removed]",
      "text/plain": [
       "<Figure size 2000x600 with 1 Axes>"
      ]
     },
     "metadata": {},
     "output_type": "display_data"
    }
   ],
   "source": [
    "print(users.pivot_table(index = 'age', values = 'user_id', aggfunc = 'count'))\n",
    "users['age'].plot(kind = 'hist', bins = 32, figsize = (20,6), grid = True, rot = 0, legend = False, fontsize = 12)\n",
    "plt.title('Распределение возрастов пользователей', fontsize=15, color='SteelBlue')\n",
    "plt.xlabel('Возраст', fontsize=15)\n",
    "plt.ylabel('Количество')\n",
    "\n",
    "users['age'].describe()"
   ]
  },
  {
   "cell_type": "markdown",
   "id": "265d2177",
   "metadata": {},
   "source": [
    "Видим, что возраст пользователей имеет  близкое к нормальному распределение. Больше всех катаются 25-летние, более половины пользователей возраста 20-30 лет (68% данных находятся в диапазоне одной сигмы в обе стороны от центра распределения, по расчетам и по графику видно, что это как раз интервал 20-30 лет). Реже всех катаются люди в возрасте до 16 лет и старше 35 лет."
   ]
  },
  {
   "cell_type": "markdown",
   "id": "c48b6aab",
   "metadata": {},
   "source": [
    "Проанализируем расстояния поездок."
   ]
  },
  {
   "cell_type": "code",
   "execution_count": 12,
   "id": "4f1ec69e",
   "metadata": {},
   "outputs": [
    {
     "data": {
      "text/plain": [
       "count    18068.000000\n",
       "mean      3070.659976\n",
       "std       1116.831209\n",
       "min          0.855683\n",
       "25%       2543.226360\n",
       "50%       3133.609994\n",
       "75%       3776.222735\n",
       "max       7211.007745\n",
       "Name: distance, dtype: float64"
      ]
     },
     "execution_count": 12,
     "metadata": {},
     "output_type": "execute_result"
    },
    {
     "data": {
      "image/png": "[encoded data removed]",
      "text/plain": [
       "<Figure size 2000x600 with 1 Axes>"
      ]
     },
     "metadata": {},
     "output_type": "display_data"
    }
   ],
   "source": [
    "rides['distance'].plot(kind = 'hist', bins = 25, figsize = (20,6), grid = True, rot = 0, legend = False, fontsize = 12)\n",
    "plt.title('Распределение расстояний поездок', fontsize=15, color='SteelBlue')\n",
    "plt.xlabel('Расстояние', fontsize=15)\n",
    "plt.ylabel('Количество')\n",
    "rides['distance'].describe()"
   ]
  },
  {
   "cell_type": "markdown",
   "id": "e162ede2",
   "metadata": {},
   "source": [
    "Из графика видим, что большая часть поездок имеет интервал расстояний от 2 до 5 км, самая распространенная дистанция - около 3 км. Есть небольшой пик коротких поездок расстоянием ~ 800 м, это, скорее всего, короткие, но срочные поездки в ближайший магазин, в садик за ребенком и тп. Разберемся с аномально короткими поездками. Посмотрим 5% процентиль."
   ]
  },
  {
   "cell_type": "code",
   "execution_count": 13,
   "id": "739a8249",
   "metadata": {},
   "outputs": [
    {
     "data": {
      "text/plain": [
       "689.0072786504327"
      ]
     },
     "execution_count": 13,
     "metadata": {},
     "output_type": "execute_result"
    }
   ],
   "source": [
    "rides['distance'].quantile(0.05)"
   ]
  },
  {
   "cell_type": "markdown",
   "id": "5a80d68c",
   "metadata": {},
   "source": [
    "Видим достаточно большое количество таких коротких поездок длиной менее 689 м, 5% от общего числа. Нельзя списать это на аномалии, сложно предположить, чем обусловлены такие короткие поездки, но избавиться от этих данных мы не можем, т к 5% - это существенная часть. Посмотрим 1,5% процентиль."
   ]
  },
  {
   "cell_type": "code",
   "execution_count": 14,
   "id": "3bb40b8b",
   "metadata": {},
   "outputs": [
    {
     "data": {
      "text/plain": [
       "281.09102623863265"
      ]
     },
     "execution_count": 14,
     "metadata": {},
     "output_type": "execute_result"
    }
   ],
   "source": [
    "rides['distance'].quantile(0.015)"
   ]
  },
  {
   "cell_type": "markdown",
   "id": "f84d2ce8",
   "metadata": {},
   "source": [
    "В проекте не стоит задачи избавиться от аномалий, поэтому оставим слишком короткие поездки, чтобы учесть всю выручку."
   ]
  },
  {
   "cell_type": "markdown",
   "id": "9728e85c",
   "metadata": {},
   "source": [
    "Проанализируем продолжительность поездок."
   ]
  },
  {
   "cell_type": "code",
   "execution_count": 15,
   "id": "564c6160",
   "metadata": {},
   "outputs": [
    {
     "data": {
      "text/plain": [
       "count    18068.000000\n",
       "mean        17.805011\n",
       "std          6.091051\n",
       "min          0.500000\n",
       "25%         13.597563\n",
       "50%         17.678395\n",
       "75%         21.724800\n",
       "max         40.823963\n",
       "Name: duration, dtype: float64"
      ]
     },
     "execution_count": 15,
     "metadata": {},
     "output_type": "execute_result"
    },
    {
     "data": {
      "image/png": "[encoded data removed]",
      "text/plain": [
       "<Figure size 2000x600 with 1 Axes>"
      ]
     },
     "metadata": {},
     "output_type": "display_data"
    }
   ],
   "source": [
    "rides['duration'].plot(kind = 'hist', bins = 28, figsize = (20,6), grid = True, rot = 0, legend = False, fontsize = 12)\n",
    "plt.title('Распределение длительности поездок', fontsize=15, color='SteelBlue')\n",
    "plt.xlabel('Длительность поездок', fontsize=15)\n",
    "plt.ylabel('Количество')\n",
    "rides['duration'].describe()"
   ]
  },
  {
   "cell_type": "markdown",
   "id": "71832fc9",
   "metadata": {},
   "source": [
    "Видим обычное нормальное распределение времени поездок, самая распространенная длительность - 17,8 минут. Примерно 95% поездок имеют длительность от 7 до 30 минут. Максимальную длительность 40 минут нельзя считать аномалией - долго, но такая длительность вполне возможна. На графике видим поездки длительностью менее 2 минут с небольшим, но ощутимым числом пользователей. Посмотрим число таких аномально коротких поездок. Выделим поездки длительностью равной и менее 2 минут и посчитаем их количество."
   ]
  },
  {
   "cell_type": "code",
   "execution_count": 16,
   "id": "f759703e",
   "metadata": {},
   "outputs": [
    {
     "name": "stdout",
     "output_type": "stream",
     "text": [
      "       user_id     distance  duration       date  month\n",
      "6531       701  4196.445201       0.5 2021-08-31      8\n",
      "6570       704  4830.824371       0.5 2021-10-14     10\n",
      "6680       712  4684.004397       0.5 2021-03-04      3\n",
      "6695       713  5215.642710       0.5 2021-02-25      2\n",
      "6768       718  5197.436649       0.5 2021-02-11      2\n",
      "...        ...          ...       ...        ...    ...\n",
      "17004     1460  5531.335845       0.5 2021-01-19      1\n",
      "17242     1477  6724.932981       0.5 2021-01-12      1\n",
      "17314     1483  4445.481070       0.5 2021-03-06      3\n",
      "17505     1496  5722.551787       0.5 2021-02-14      2\n",
      "17909     1524  4103.998874       0.5 2021-06-18      6\n",
      "\n",
      "[95 rows x 5 columns]\n",
      "duration\n",
      "0.5    95\n",
      "Name: count, dtype: int64\n"
     ]
    }
   ],
   "source": [
    "rides_duration_anomaly = rides.loc[rides['duration']<=2]\n",
    "print(rides_duration_anomaly)\n",
    "print(rides_duration_anomaly['duration'].value_counts())"
   ]
  },
  {
   "cell_type": "markdown",
   "id": "0575e421",
   "metadata": {},
   "source": [
    "Мы нашли 95 поездок длительностью 0,5 минут. Поскольку длительность считается автоматически, нельзя списать это на человеческий фактор. Судя по расстояниям этих поездок (они достаточно большие - 4-5-6 км), это не ошибки (когда поехал и передумал/вернулся домой/что-то забыл и отменил поездку), а поездки с бесплатными минутами, которые могут быть результатом какой-то акции. Оставим эти поездки, т к они значимы для расчета статистики по расстояниям поездок."
   ]
  },
  {
   "cell_type": "markdown",
   "id": "8f209939",
   "metadata": {},
   "source": [
    "**Выводы по исследовательскому анализу данных:**\n",
    "\n",
    "***1)*** Минимальное число пользователей - в Москве (168 или 11% от общего числа), максимальное - в Пятигорске (219 или 14% от общего числа), в процентном соотношении пользователи распределены равномерно, нет перекосов в сторону какого-то города.\n",
    "\n",
    "***2)*** Чуть больше половины клиентов (54,4% или 835 человек) пользуются сервисом без подписки, и чуть меньше половины (45,6% или 699 человек) оформили подписку.\n",
    "\n",
    "***3)*** Возраст пользователей имеет близкое к нормальному распределение. Больше всех катаются 25-летние, более половины пользователей возраста 20-30 лет (68% данных находятся в диапазоне одной сигмы в обе стороны от центра распределения, по расчетам и по графику видно, что это как раз интервал 20-30 лет). Реже всех катаются люди в возрасте до 16 лет и старше 35 лет.\n",
    "\n",
    "***4)*** Большая часть поездок имеет интервал расстояний от 2 до 5 км, самая распространенная дистанция - около 3 км. Есть небольшой пик коротких поездок расстоянием ~ 800 м, это, скорее всего, короткие, но срочные поездки (в магазин, садик, школу и пр).\n",
    "\n",
    "***5)*** Самая распространенная длительность поездок - 17,8 минут. Примерно 95% поездок имеют длительность от 7 до 30 минут. Обнаружились 95 поездок длительностью 0,5 минут. Судя по расстояниям этих поездок (4-5-6 км), это не ошибки, а поездки с бесплатными минутами, которые могут быть результатом какой-то акции."
   ]
  },
  {
   "cell_type": "markdown",
   "id": "62b5a4f8",
   "metadata": {},
   "source": [
    "#### Шаг 4. Объединение данных"
   ]
  },
  {
   "cell_type": "markdown",
   "id": "a006139a",
   "metadata": {},
   "source": [
    "Объединим таблицы rides, users и subscriptions методом merge()."
   ]
  },
  {
   "cell_type": "code",
   "execution_count": 14,
   "id": "ece50b94",
   "metadata": {},
   "outputs": [
    {
     "data": {
      "text/html": [
       "<div>\n",
       "<style scoped>\n",
       "    .dataframe tbody tr th:only-of-type {\n",
       "        vertical-align: middle;\n",
       "    }\n",
       "\n",
       "    .dataframe tbody tr th {\n",
       "        vertical-align: top;\n",
       "    }\n",
       "\n",
       "    .dataframe thead th {\n",
       "        text-align: right;\n",
       "    }\n",
       "</style>\n",
       "<table border=\"1\" class=\"dataframe\">\n",
       "  <thead>\n",
       "    <tr style=\"text-align: right;\">\n",
       "      <th></th>\n",
       "      <th>index</th>\n",
       "      <th>user_id</th>\n",
       "      <th>name</th>\n",
       "      <th>age</th>\n",
       "      <th>city</th>\n",
       "      <th>subscription_type</th>\n",
       "      <th>distance</th>\n",
       "      <th>duration</th>\n",
       "      <th>date</th>\n",
       "      <th>month</th>\n",
       "      <th>minute_price</th>\n",
       "      <th>start_ride_price</th>\n",
       "      <th>subscription_fee</th>\n",
       "    </tr>\n",
       "  </thead>\n",
       "  <tbody>\n",
       "    <tr>\n",
       "      <th>0</th>\n",
       "      <td>0</td>\n",
       "      <td>1</td>\n",
       "      <td>Кира</td>\n",
       "      <td>22</td>\n",
       "      <td>Тюмень</td>\n",
       "      <td>ultra</td>\n",
       "      <td>4409.919140</td>\n",
       "      <td>25.599769</td>\n",
       "      <td>2021-01-01</td>\n",
       "      <td>1</td>\n",
       "      <td>6</td>\n",
       "      <td>0</td>\n",
       "      <td>199</td>\n",
       "    </tr>\n",
       "    <tr>\n",
       "      <th>1</th>\n",
       "      <td>0</td>\n",
       "      <td>1</td>\n",
       "      <td>Кира</td>\n",
       "      <td>22</td>\n",
       "      <td>Тюмень</td>\n",
       "      <td>ultra</td>\n",
       "      <td>2617.592153</td>\n",
       "      <td>15.816871</td>\n",
       "      <td>2021-01-18</td>\n",
       "      <td>1</td>\n",
       "      <td>6</td>\n",
       "      <td>0</td>\n",
       "      <td>199</td>\n",
       "    </tr>\n",
       "    <tr>\n",
       "      <th>2</th>\n",
       "      <td>0</td>\n",
       "      <td>1</td>\n",
       "      <td>Кира</td>\n",
       "      <td>22</td>\n",
       "      <td>Тюмень</td>\n",
       "      <td>ultra</td>\n",
       "      <td>754.159807</td>\n",
       "      <td>6.232113</td>\n",
       "      <td>2021-04-20</td>\n",
       "      <td>4</td>\n",
       "      <td>6</td>\n",
       "      <td>0</td>\n",
       "      <td>199</td>\n",
       "    </tr>\n",
       "    <tr>\n",
       "      <th>3</th>\n",
       "      <td>0</td>\n",
       "      <td>1</td>\n",
       "      <td>Кира</td>\n",
       "      <td>22</td>\n",
       "      <td>Тюмень</td>\n",
       "      <td>ultra</td>\n",
       "      <td>2694.783254</td>\n",
       "      <td>18.511000</td>\n",
       "      <td>2021-08-11</td>\n",
       "      <td>8</td>\n",
       "      <td>6</td>\n",
       "      <td>0</td>\n",
       "      <td>199</td>\n",
       "    </tr>\n",
       "    <tr>\n",
       "      <th>4</th>\n",
       "      <td>0</td>\n",
       "      <td>1</td>\n",
       "      <td>Кира</td>\n",
       "      <td>22</td>\n",
       "      <td>Тюмень</td>\n",
       "      <td>ultra</td>\n",
       "      <td>4028.687306</td>\n",
       "      <td>26.265803</td>\n",
       "      <td>2021-08-28</td>\n",
       "      <td>8</td>\n",
       "      <td>6</td>\n",
       "      <td>0</td>\n",
       "      <td>199</td>\n",
       "    </tr>\n",
       "  </tbody>\n",
       "</table>\n",
       "</div>"
      ],
      "text/plain": [
       "   index  user_id  name  age    city subscription_type     distance  \\\n",
       "0      0        1  Кира   22  Тюмень             ultra  4409.919140   \n",
       "1      0        1  Кира   22  Тюмень             ultra  2617.592153   \n",
       "2      0        1  Кира   22  Тюмень             ultra   754.159807   \n",
       "3      0        1  Кира   22  Тюмень             ultra  2694.783254   \n",
       "4      0        1  Кира   22  Тюмень             ultra  4028.687306   \n",
       "\n",
       "    duration       date  month  minute_price  start_ride_price  \\\n",
       "0  25.599769 2021-01-01      1             6                 0   \n",
       "1  15.816871 2021-01-18      1             6                 0   \n",
       "2   6.232113 2021-04-20      4             6                 0   \n",
       "3  18.511000 2021-08-11      8             6                 0   \n",
       "4  26.265803 2021-08-28      8             6                 0   \n",
       "\n",
       "   subscription_fee  \n",
       "0               199  \n",
       "1               199  \n",
       "2               199  \n",
       "3               199  \n",
       "4               199  "
      ]
     },
     "metadata": {},
     "output_type": "display_data"
    }
   ],
   "source": [
    "#Используем параметр how='inner', но это не обязательно, тк в обоих датафреймах нет пропусков.\n",
    "users_rides = users.merge(rides, on = 'user_id', how = 'inner')\n",
    "data_united = users_rides.merge(subscriptions, on = 'subscription_type')\n",
    "display(data_united.head())\n"
   ]
  },
  {
   "cell_type": "code",
   "execution_count": 15,
   "id": "e11e8df2",
   "metadata": {},
   "outputs": [
    {
     "name": "stdout",
     "output_type": "stream",
     "text": [
      "Число строк в обеих таблицах до объединения 19602\n",
      "Число строк после объединения 18068\n"
     ]
    }
   ],
   "source": [
    "print('Число строк в обеих таблицах до объединения', len(users)+len(rides))\n",
    "print('Число строк после объединения', len(data_united))"
   ]
  },
  {
   "cell_type": "markdown",
   "id": "99c45a1f",
   "metadata": {},
   "source": [
    "Число строк в таблице, полученной в результате объединения трех таблиц, совпадает с числом строк в таблице поездок rides. Это правильно, потому что в результате объединения к каждой строке из датафрейма rides просто добавляется информация о пользователе из датафрейма users (город, имя, возраст) и тип подписки из subscriptions. Проще говоря, мы дополнили таблицу rides, и теперь кроме user_id (которая была общей в таблицах users и rides) в строки добавилась другая информация о пользователях и еще тип подписки (free или ultra), новых строк прибавиться не должно."
   ]
  },
  {
   "cell_type": "markdown",
   "id": "b37f528e",
   "metadata": {},
   "source": [
    "Создадим 2 таблицы: пользователи с подпиской и пользователи без подписки."
   ]
  },
  {
   "cell_type": "code",
   "execution_count": 16,
   "id": "091e5e4e",
   "metadata": {},
   "outputs": [
    {
     "data": {
      "text/html": [
       "<div>\n",
       "<style scoped>\n",
       "    .dataframe tbody tr th:only-of-type {\n",
       "        vertical-align: middle;\n",
       "    }\n",
       "\n",
       "    .dataframe tbody tr th {\n",
       "        vertical-align: top;\n",
       "    }\n",
       "\n",
       "    .dataframe thead th {\n",
       "        text-align: right;\n",
       "    }\n",
       "</style>\n",
       "<table border=\"1\" class=\"dataframe\">\n",
       "  <thead>\n",
       "    <tr style=\"text-align: right;\">\n",
       "      <th></th>\n",
       "      <th>index</th>\n",
       "      <th>user_id</th>\n",
       "      <th>name</th>\n",
       "      <th>age</th>\n",
       "      <th>city</th>\n",
       "      <th>subscription_type</th>\n",
       "      <th>distance</th>\n",
       "      <th>duration</th>\n",
       "      <th>date</th>\n",
       "      <th>month</th>\n",
       "      <th>minute_price</th>\n",
       "      <th>start_ride_price</th>\n",
       "      <th>subscription_fee</th>\n",
       "    </tr>\n",
       "  </thead>\n",
       "  <tbody>\n",
       "    <tr>\n",
       "      <th>0</th>\n",
       "      <td>0</td>\n",
       "      <td>1</td>\n",
       "      <td>Кира</td>\n",
       "      <td>22</td>\n",
       "      <td>Тюмень</td>\n",
       "      <td>ultra</td>\n",
       "      <td>4409.919140</td>\n",
       "      <td>25.599769</td>\n",
       "      <td>2021-01-01</td>\n",
       "      <td>1</td>\n",
       "      <td>6</td>\n",
       "      <td>0</td>\n",
       "      <td>199</td>\n",
       "    </tr>\n",
       "    <tr>\n",
       "      <th>1</th>\n",
       "      <td>0</td>\n",
       "      <td>1</td>\n",
       "      <td>Кира</td>\n",
       "      <td>22</td>\n",
       "      <td>Тюмень</td>\n",
       "      <td>ultra</td>\n",
       "      <td>2617.592153</td>\n",
       "      <td>15.816871</td>\n",
       "      <td>2021-01-18</td>\n",
       "      <td>1</td>\n",
       "      <td>6</td>\n",
       "      <td>0</td>\n",
       "      <td>199</td>\n",
       "    </tr>\n",
       "    <tr>\n",
       "      <th>2</th>\n",
       "      <td>0</td>\n",
       "      <td>1</td>\n",
       "      <td>Кира</td>\n",
       "      <td>22</td>\n",
       "      <td>Тюмень</td>\n",
       "      <td>ultra</td>\n",
       "      <td>754.159807</td>\n",
       "      <td>6.232113</td>\n",
       "      <td>2021-04-20</td>\n",
       "      <td>4</td>\n",
       "      <td>6</td>\n",
       "      <td>0</td>\n",
       "      <td>199</td>\n",
       "    </tr>\n",
       "    <tr>\n",
       "      <th>3</th>\n",
       "      <td>0</td>\n",
       "      <td>1</td>\n",
       "      <td>Кира</td>\n",
       "      <td>22</td>\n",
       "      <td>Тюмень</td>\n",
       "      <td>ultra</td>\n",
       "      <td>2694.783254</td>\n",
       "      <td>18.511000</td>\n",
       "      <td>2021-08-11</td>\n",
       "      <td>8</td>\n",
       "      <td>6</td>\n",
       "      <td>0</td>\n",
       "      <td>199</td>\n",
       "    </tr>\n",
       "    <tr>\n",
       "      <th>4</th>\n",
       "      <td>0</td>\n",
       "      <td>1</td>\n",
       "      <td>Кира</td>\n",
       "      <td>22</td>\n",
       "      <td>Тюмень</td>\n",
       "      <td>ultra</td>\n",
       "      <td>4028.687306</td>\n",
       "      <td>26.265803</td>\n",
       "      <td>2021-08-28</td>\n",
       "      <td>8</td>\n",
       "      <td>6</td>\n",
       "      <td>0</td>\n",
       "      <td>199</td>\n",
       "    </tr>\n",
       "  </tbody>\n",
       "</table>\n",
       "</div>"
      ],
      "text/plain": [
       "   index  user_id  name  age    city subscription_type     distance  \\\n",
       "0      0        1  Кира   22  Тюмень             ultra  4409.919140   \n",
       "1      0        1  Кира   22  Тюмень             ultra  2617.592153   \n",
       "2      0        1  Кира   22  Тюмень             ultra   754.159807   \n",
       "3      0        1  Кира   22  Тюмень             ultra  2694.783254   \n",
       "4      0        1  Кира   22  Тюмень             ultra  4028.687306   \n",
       "\n",
       "    duration       date  month  minute_price  start_ride_price  \\\n",
       "0  25.599769 2021-01-01      1             6                 0   \n",
       "1  15.816871 2021-01-18      1             6                 0   \n",
       "2   6.232113 2021-04-20      4             6                 0   \n",
       "3  18.511000 2021-08-11      8             6                 0   \n",
       "4  26.265803 2021-08-28      8             6                 0   \n",
       "\n",
       "   subscription_fee  \n",
       "0               199  \n",
       "1               199  \n",
       "2               199  \n",
       "3               199  \n",
       "4               199  "
      ]
     },
     "metadata": {},
     "output_type": "display_data"
    },
    {
     "data": {
      "text/html": [
       "<div>\n",
       "<style scoped>\n",
       "    .dataframe tbody tr th:only-of-type {\n",
       "        vertical-align: middle;\n",
       "    }\n",
       "\n",
       "    .dataframe tbody tr th {\n",
       "        vertical-align: top;\n",
       "    }\n",
       "\n",
       "    .dataframe thead th {\n",
       "        text-align: right;\n",
       "    }\n",
       "</style>\n",
       "<table border=\"1\" class=\"dataframe\">\n",
       "  <thead>\n",
       "    <tr style=\"text-align: right;\">\n",
       "      <th></th>\n",
       "      <th>index</th>\n",
       "      <th>user_id</th>\n",
       "      <th>name</th>\n",
       "      <th>age</th>\n",
       "      <th>city</th>\n",
       "      <th>subscription_type</th>\n",
       "      <th>distance</th>\n",
       "      <th>duration</th>\n",
       "      <th>date</th>\n",
       "      <th>month</th>\n",
       "      <th>minute_price</th>\n",
       "      <th>start_ride_price</th>\n",
       "      <th>subscription_fee</th>\n",
       "    </tr>\n",
       "  </thead>\n",
       "  <tbody>\n",
       "    <tr>\n",
       "      <th>6500</th>\n",
       "      <td>699</td>\n",
       "      <td>700</td>\n",
       "      <td>Айдар</td>\n",
       "      <td>22</td>\n",
       "      <td>Омск</td>\n",
       "      <td>free</td>\n",
       "      <td>2515.690719</td>\n",
       "      <td>14.944286</td>\n",
       "      <td>2021-01-02</td>\n",
       "      <td>1</td>\n",
       "      <td>8</td>\n",
       "      <td>50</td>\n",
       "      <td>0</td>\n",
       "    </tr>\n",
       "    <tr>\n",
       "      <th>6501</th>\n",
       "      <td>699</td>\n",
       "      <td>700</td>\n",
       "      <td>Айдар</td>\n",
       "      <td>22</td>\n",
       "      <td>Омск</td>\n",
       "      <td>free</td>\n",
       "      <td>846.932642</td>\n",
       "      <td>16.234663</td>\n",
       "      <td>2021-02-01</td>\n",
       "      <td>2</td>\n",
       "      <td>8</td>\n",
       "      <td>50</td>\n",
       "      <td>0</td>\n",
       "    </tr>\n",
       "    <tr>\n",
       "      <th>6502</th>\n",
       "      <td>699</td>\n",
       "      <td>700</td>\n",
       "      <td>Айдар</td>\n",
       "      <td>22</td>\n",
       "      <td>Омск</td>\n",
       "      <td>free</td>\n",
       "      <td>4004.434142</td>\n",
       "      <td>20.016628</td>\n",
       "      <td>2021-02-04</td>\n",
       "      <td>2</td>\n",
       "      <td>8</td>\n",
       "      <td>50</td>\n",
       "      <td>0</td>\n",
       "    </tr>\n",
       "    <tr>\n",
       "      <th>6503</th>\n",
       "      <td>699</td>\n",
       "      <td>700</td>\n",
       "      <td>Айдар</td>\n",
       "      <td>22</td>\n",
       "      <td>Омск</td>\n",
       "      <td>free</td>\n",
       "      <td>1205.911290</td>\n",
       "      <td>9.782872</td>\n",
       "      <td>2021-02-10</td>\n",
       "      <td>2</td>\n",
       "      <td>8</td>\n",
       "      <td>50</td>\n",
       "      <td>0</td>\n",
       "    </tr>\n",
       "    <tr>\n",
       "      <th>6504</th>\n",
       "      <td>699</td>\n",
       "      <td>700</td>\n",
       "      <td>Айдар</td>\n",
       "      <td>22</td>\n",
       "      <td>Омск</td>\n",
       "      <td>free</td>\n",
       "      <td>3047.379435</td>\n",
       "      <td>17.427673</td>\n",
       "      <td>2021-02-14</td>\n",
       "      <td>2</td>\n",
       "      <td>8</td>\n",
       "      <td>50</td>\n",
       "      <td>0</td>\n",
       "    </tr>\n",
       "  </tbody>\n",
       "</table>\n",
       "</div>"
      ],
      "text/plain": [
       "      index  user_id   name  age  city subscription_type     distance  \\\n",
       "6500    699      700  Айдар   22  Омск              free  2515.690719   \n",
       "6501    699      700  Айдар   22  Омск              free   846.932642   \n",
       "6502    699      700  Айдар   22  Омск              free  4004.434142   \n",
       "6503    699      700  Айдар   22  Омск              free  1205.911290   \n",
       "6504    699      700  Айдар   22  Омск              free  3047.379435   \n",
       "\n",
       "       duration       date  month  minute_price  start_ride_price  \\\n",
       "6500  14.944286 2021-01-02      1             8                50   \n",
       "6501  16.234663 2021-02-01      2             8                50   \n",
       "6502  20.016628 2021-02-04      2             8                50   \n",
       "6503   9.782872 2021-02-10      2             8                50   \n",
       "6504  17.427673 2021-02-14      2             8                50   \n",
       "\n",
       "      subscription_fee  \n",
       "6500                 0  \n",
       "6501                 0  \n",
       "6502                 0  \n",
       "6503                 0  \n",
       "6504                 0  "
      ]
     },
     "metadata": {},
     "output_type": "display_data"
    }
   ],
   "source": [
    "data_ultra = data_united.loc[data_united['subscription_type'] == 'ultra']\n",
    "display(data_ultra.head())\n",
    "data_free = data_united.loc[data_united['subscription_type'] == 'free']\n",
    "display(data_free.head())"
   ]
  },
  {
   "cell_type": "markdown",
   "id": "faba3af5",
   "metadata": {},
   "source": [
    "Проверим, не потерялась ли информация после разделения таблиц на 2 с разными категориями пользователей."
   ]
  },
  {
   "cell_type": "code",
   "execution_count": 17,
   "id": "fd173701",
   "metadata": {},
   "outputs": [
    {
     "name": "stdout",
     "output_type": "stream",
     "text": [
      "Сумма строк двух таблиц после разделения:  18068\n",
      "Сумма строк исходной таблицы до разделения:  18068\n"
     ]
    }
   ],
   "source": [
    "print('Сумма строк двух таблиц после разделения: ', len(data_ultra)+len(data_free))\n",
    "\n",
    "print('Сумма строк исходной таблицы до разделения: ', len(data_united))"
   ]
  },
  {
   "cell_type": "markdown",
   "id": "3cd75783",
   "metadata": {},
   "source": [
    "Сравним данные по расстояниям у пользователей без подписки и с подпиской. Построим гистограммы распределения расстояний и посчитаем основные показатели."
   ]
  },
  {
   "cell_type": "code",
   "execution_count": 18,
   "id": "36ab1895",
   "metadata": {},
   "outputs": [
    {
     "data": {
      "text/plain": [
       "count    11568.000000\n",
       "mean      3045.495282\n",
       "std       1246.173806\n",
       "min          0.855683\n",
       "25%       2366.562689\n",
       "50%       3114.648465\n",
       "75%       3905.697894\n",
       "max       7211.007745\n",
       "Name: distance, dtype: float64"
      ]
     },
     "execution_count": 18,
     "metadata": {},
     "output_type": "execute_result"
    },
    {
     "data": {
      "image/png": "[encoded data removed]",
      "text/plain": [
       "<Figure size 2000x400 with 1 Axes>"
      ]
     },
     "metadata": {},
     "output_type": "display_data"
    }
   ],
   "source": [
    "data_free['distance'].plot(kind = 'hist', bins = 25, figsize = (20,4), grid = True, rot = 0, legend = False, fontsize = 12)\n",
    "plt.title('Распределение расстояний для клиентов без подписки', fontsize=15, color='SteelBlue')\n",
    "plt.xlabel('Расстояние', fontsize=15)\n",
    "plt.ylabel('Количество', fontsize=15)\n",
    "data_free['distance'].describe()"
   ]
  },
  {
   "cell_type": "code",
   "execution_count": 19,
   "id": "a2b1307f",
   "metadata": {},
   "outputs": [
    {
     "data": {
      "text/plain": [
       "count    6500.000000\n",
       "mean     3115.445388\n",
       "std       836.895330\n",
       "min       244.210438\n",
       "25%      2785.444017\n",
       "50%      3148.637229\n",
       "75%      3560.574425\n",
       "max      5699.769662\n",
       "Name: distance, dtype: float64"
      ]
     },
     "execution_count": 19,
     "metadata": {},
     "output_type": "execute_result"
    },
    {
     "data": {
      "image/png": "[encoded data removed]",
      "text/plain": [
       "<Figure size 2000x400 with 1 Axes>"
      ]
     },
     "metadata": {},
     "output_type": "display_data"
    }
   ],
   "source": [
    "data_ultra['distance'].plot(kind = 'hist', bins = 25, figsize = (20,4), grid = True, rot = 0, legend = False, fontsize = 12)\n",
    "plt.title('Распределение расстояний для клиентов c подпиской', fontsize=15, color='SteelBlue')\n",
    "plt.xlabel('Расстояние', fontsize=15)\n",
    "plt.ylabel('Количество', fontsize=15)\n",
    "data_ultra['distance'].describe()"
   ]
  },
  {
   "cell_type": "markdown",
   "id": "36558ecf",
   "metadata": {},
   "source": [
    "Средние показатели (среднее, медиана) у обеих категорий пользователей отличаются не значительно. Медианное значение длительности поезок составляет 3,11 и 3,15 км для пользователей без подписки и с подпиской соответственно. У пользователей без подписки больше разброс значений (сигма равны 1,25 км и 0,8 км для пользователей без подписки и с подпиской). Среди пользователей без подписки больше клиентов, передвигающихся на более далекие расстояния: максимальное расстояние у клиентов без подписки превышает 7 км и ощутимо много пользователей, ездящих на расстояние более 4,5 км. Среди пользователей с подпиской максимальное расстояние равно 5,7 км, и пользователи, передвигающиеся на расстояния более 4,5 км - редкость. У пользователей без подписки видим достаточно ощутимое количество поездок на слишком короткие расстояния менее 0,5 км, сложно объяснить это, т к старт поездки у этой категории платный. У пользователей с подписокй число аномально коротких поездок не существенно, и виден небольшой пик поездок на расстояния 1 км - то объясняется срочными короткими поездками на близкие расстояния (в ближайший магазин, пункт доставки и тд)."
   ]
  },
  {
   "cell_type": "markdown",
   "id": "f4671b8e",
   "metadata": {},
   "source": [
    "Посмотрим гистограммы для длительности поездок у обеих категорий пользователей."
   ]
  },
  {
   "cell_type": "code",
   "execution_count": 20,
   "id": "162cacf1",
   "metadata": {},
   "outputs": [
    {
     "data": {
      "text/plain": [
       "count    11568.000000\n",
       "mean        17.390909\n",
       "std          6.326803\n",
       "min          0.500000\n",
       "25%         12.958437\n",
       "50%         17.326890\n",
       "75%         21.594071\n",
       "max         34.948498\n",
       "Name: duration, dtype: float64"
      ]
     },
     "execution_count": 20,
     "metadata": {},
     "output_type": "execute_result"
    },
    {
     "data": {
      "image/png": "[encoded data removed]",
      "text/plain": [
       "<Figure size 2000x400 with 1 Axes>"
      ]
     },
     "metadata": {},
     "output_type": "display_data"
    }
   ],
   "source": [
    "data_free['duration'].plot(kind = 'hist', bins = 28, figsize = (20,4), grid = True, rot = 0, legend = False, fontsize = 12)\n",
    "plt.title('Распределение длительности поездок у клиентов без подписки', fontsize=15, color='SteelBlue')\n",
    "plt.xlabel('Длительность поездок', fontsize=15)\n",
    "plt.ylabel('Количество', fontsize=15)\n",
    "data_free['duration'].describe()"
   ]
  },
  {
   "cell_type": "code",
   "execution_count": 21,
   "id": "d8daf2a8",
   "metadata": {},
   "outputs": [
    {
     "data": {
      "text/plain": [
       "count    6500.000000\n",
       "mean       18.541985\n",
       "std         5.572048\n",
       "min         3.760353\n",
       "25%        14.524654\n",
       "50%        18.178153\n",
       "75%        21.884129\n",
       "max        40.823963\n",
       "Name: duration, dtype: float64"
      ]
     },
     "execution_count": 21,
     "metadata": {},
     "output_type": "execute_result"
    },
    {
     "data": {
      "image/png": "[encoded data removed]",
      "text/plain": [
       "<Figure size 2000x400 with 1 Axes>"
      ]
     },
     "metadata": {},
     "output_type": "display_data"
    }
   ],
   "source": [
    "data_ultra['duration'].plot(kind = 'hist', bins = 28, figsize = (20,4), grid = True, rot = 0, legend = False, fontsize = 12)\n",
    "plt.title('Распределение длительности поездок у клиетов с подпиской', fontsize=15, color='SteelBlue')\n",
    "plt.xlabel('Длительность поездок', fontsize=15)\n",
    "plt.ylabel('Количество', fontsize=15)\n",
    "data_ultra['duration'].describe()\n"
   ]
  },
  {
   "cell_type": "code",
   "execution_count": 22,
   "id": "bb33c976",
   "metadata": {},
   "outputs": [
    {
     "data": {
      "image/png": "[encoded data removed]",
      "text/plain": [
       "<Figure size 640x480 with 1 Axes>"
      ]
     },
     "metadata": {},
     "output_type": "display_data"
    }
   ],
   "source": [
    "x = [data_free['duration']]\n",
    "y = [data_ultra['duration']]\n",
    "\n",
    "bins = numpy.linspace(0, 41)\n",
    "\n",
    "pyplot.hist(x, bins, alpha=0.5, label='Пользователи без подписки')\n",
    "pyplot.hist(y, bins, alpha=0.5, label='Пользователи с подпиской')\n",
    "pyplot.legend(loc='upper right')\n",
    "plt.rcParams[\"figure.figsize\"] = (20, 6)\n",
    "plt.grid() \n",
    "pyplot.show()"
   ]
  },
  {
   "cell_type": "markdown",
   "id": "f074fb06",
   "metadata": {},
   "source": [
    "Среднее и медианное значения для обеих категорий пользователей отличаются не значительно. Средняя длительность поездки составляет 17,6 минут у клиентов без подписки и 18,2 минут у клиентов с подпиской. 75% клиентов обеих категорий ездят не дольше 22 минут (75% квартиль у обеих категорий одинаковый), разброс значений тоже отличается не значительно. Отличие только в том, что у клиентов с подпиской чуть больше максимальная длина поездок: 40 минут, в то время как у пользователей бех подписки максимально долгая поездка 35 минут."
   ]
  },
  {
   "cell_type": "markdown",
   "id": "aee7186a",
   "metadata": {},
   "source": [
    "#### Шаг 5. Подсчёт выручки"
   ]
  },
  {
   "cell_type": "markdown",
   "id": "cc2f43aa",
   "metadata": {},
   "source": [
    "Создадим таблицу с агрегированными данными о поездках, в качестве индекса будем использовать месяц и идентификатор (user id) пользователей, посчитаем общее расстояние и общую длительность поездок по каждому пользователю."
   ]
  },
  {
   "cell_type": "code",
   "execution_count": 23,
   "id": "5c997968",
   "metadata": {},
   "outputs": [
    {
     "data": {
      "text/html": [
       "<div>\n",
       "<style scoped>\n",
       "    .dataframe tbody tr th:only-of-type {\n",
       "        vertical-align: middle;\n",
       "    }\n",
       "\n",
       "    .dataframe tbody tr th {\n",
       "        vertical-align: top;\n",
       "    }\n",
       "\n",
       "    .dataframe thead th {\n",
       "        text-align: right;\n",
       "    }\n",
       "</style>\n",
       "<table border=\"1\" class=\"dataframe\">\n",
       "  <thead>\n",
       "    <tr style=\"text-align: right;\">\n",
       "      <th></th>\n",
       "      <th></th>\n",
       "      <th>total_distance</th>\n",
       "      <th>total_duration</th>\n",
       "      <th>count_trips</th>\n",
       "      <th>subscription_type</th>\n",
       "    </tr>\n",
       "    <tr>\n",
       "      <th>month</th>\n",
       "      <th>user_id</th>\n",
       "      <th></th>\n",
       "      <th></th>\n",
       "      <th></th>\n",
       "      <th></th>\n",
       "    </tr>\n",
       "  </thead>\n",
       "  <tbody>\n",
       "    <tr>\n",
       "      <th rowspan=\"5\" valign=\"top\">1</th>\n",
       "      <th>1</th>\n",
       "      <td>7027.511294</td>\n",
       "      <td>42.0</td>\n",
       "      <td>2</td>\n",
       "      <td>ultra</td>\n",
       "    </tr>\n",
       "    <tr>\n",
       "      <th>3</th>\n",
       "      <td>3061.777147</td>\n",
       "      <td>13.0</td>\n",
       "      <td>1</td>\n",
       "      <td>ultra</td>\n",
       "    </tr>\n",
       "    <tr>\n",
       "      <th>5</th>\n",
       "      <td>3914.646990</td>\n",
       "      <td>13.0</td>\n",
       "      <td>1</td>\n",
       "      <td>ultra</td>\n",
       "    </tr>\n",
       "    <tr>\n",
       "      <th>7</th>\n",
       "      <td>6478.080979</td>\n",
       "      <td>28.0</td>\n",
       "      <td>2</td>\n",
       "      <td>ultra</td>\n",
       "    </tr>\n",
       "    <tr>\n",
       "      <th>12</th>\n",
       "      <td>3577.151148</td>\n",
       "      <td>33.0</td>\n",
       "      <td>1</td>\n",
       "      <td>ultra</td>\n",
       "    </tr>\n",
       "  </tbody>\n",
       "</table>\n",
       "</div>"
      ],
      "text/plain": [
       "               total_distance  total_duration  count_trips subscription_type\n",
       "month user_id                                                               \n",
       "1     1           7027.511294            42.0            2             ultra\n",
       "      3           3061.777147            13.0            1             ultra\n",
       "      5           3914.646990            13.0            1             ultra\n",
       "      7           6478.080979            28.0            2             ultra\n",
       "      12          3577.151148            33.0            1             ultra"
      ]
     },
     "metadata": {},
     "output_type": "display_data"
    }
   ],
   "source": [
    "data_united['duration'] = np.ceil(data_united['duration']) \n",
    "data_income = data_united.pivot_table(\n",
    "                           index=['month', 'user_id'],\n",
    "                           values = ['distance', 'duration', 'name', 'subscription_type'],\n",
    "                           aggfunc = {'distance': 'sum', \n",
    "                                      'duration' : 'sum', \n",
    "                                      'name' : 'count', \n",
    "                                      'subscription_type' : 'min'})\n",
    "data_income.columns = ['total_distance', 'total_duration', 'count_trips', 'subscription_type']\n",
    "display(data_income.head())"
   ]
  },
  {
   "cell_type": "markdown",
   "id": "f397eb75",
   "metadata": {},
   "source": [
    "Добавим столбец с помесячной выручкой, которую принёс каждый пользователь."
   ]
  },
  {
   "cell_type": "code",
   "execution_count": 24,
   "id": "910e5c83",
   "metadata": {},
   "outputs": [
    {
     "data": {
      "text/html": [
       "<div>\n",
       "<style scoped>\n",
       "    .dataframe tbody tr th:only-of-type {\n",
       "        vertical-align: middle;\n",
       "    }\n",
       "\n",
       "    .dataframe tbody tr th {\n",
       "        vertical-align: top;\n",
       "    }\n",
       "\n",
       "    .dataframe thead th {\n",
       "        text-align: right;\n",
       "    }\n",
       "</style>\n",
       "<table border=\"1\" class=\"dataframe\">\n",
       "  <thead>\n",
       "    <tr style=\"text-align: right;\">\n",
       "      <th></th>\n",
       "      <th></th>\n",
       "      <th>total_distance</th>\n",
       "      <th>total_duration</th>\n",
       "      <th>count_trips</th>\n",
       "      <th>subscription_type</th>\n",
       "      <th>income_per_month</th>\n",
       "    </tr>\n",
       "    <tr>\n",
       "      <th>month</th>\n",
       "      <th>user_id</th>\n",
       "      <th></th>\n",
       "      <th></th>\n",
       "      <th></th>\n",
       "      <th></th>\n",
       "      <th></th>\n",
       "    </tr>\n",
       "  </thead>\n",
       "  <tbody>\n",
       "    <tr>\n",
       "      <th rowspan=\"5\" valign=\"top\">1</th>\n",
       "      <th>1</th>\n",
       "      <td>7027.511294</td>\n",
       "      <td>42.0</td>\n",
       "      <td>2</td>\n",
       "      <td>ultra</td>\n",
       "      <td>451.0</td>\n",
       "    </tr>\n",
       "    <tr>\n",
       "      <th>3</th>\n",
       "      <td>3061.777147</td>\n",
       "      <td>13.0</td>\n",
       "      <td>1</td>\n",
       "      <td>ultra</td>\n",
       "      <td>277.0</td>\n",
       "    </tr>\n",
       "    <tr>\n",
       "      <th>5</th>\n",
       "      <td>3914.646990</td>\n",
       "      <td>13.0</td>\n",
       "      <td>1</td>\n",
       "      <td>ultra</td>\n",
       "      <td>277.0</td>\n",
       "    </tr>\n",
       "    <tr>\n",
       "      <th>7</th>\n",
       "      <td>6478.080979</td>\n",
       "      <td>28.0</td>\n",
       "      <td>2</td>\n",
       "      <td>ultra</td>\n",
       "      <td>367.0</td>\n",
       "    </tr>\n",
       "    <tr>\n",
       "      <th>12</th>\n",
       "      <td>3577.151148</td>\n",
       "      <td>33.0</td>\n",
       "      <td>1</td>\n",
       "      <td>ultra</td>\n",
       "      <td>397.0</td>\n",
       "    </tr>\n",
       "  </tbody>\n",
       "</table>\n",
       "</div>"
      ],
      "text/plain": [
       "               total_distance  total_duration  count_trips subscription_type  \\\n",
       "month user_id                                                                  \n",
       "1     1           7027.511294            42.0            2             ultra   \n",
       "      3           3061.777147            13.0            1             ultra   \n",
       "      5           3914.646990            13.0            1             ultra   \n",
       "      7           6478.080979            28.0            2             ultra   \n",
       "      12          3577.151148            33.0            1             ultra   \n",
       "\n",
       "               income_per_month  \n",
       "month user_id                    \n",
       "1     1                   451.0  \n",
       "      3                   277.0  \n",
       "      5                   277.0  \n",
       "      7                   367.0  \n",
       "      12                  397.0  "
      ]
     },
     "metadata": {},
     "output_type": "display_data"
    }
   ],
   "source": [
    "def month_income(row):\n",
    "    if row['subscription_type'] =='free':\n",
    "        return 50*row['count_trips']+8*row['total_duration']\n",
    "    if row['subscription_type'] =='ultra':\n",
    "        return 199+6*row['total_duration']\n",
    "    \n",
    "data_income['income_per_month'] = data_income.apply(month_income, axis = 1)\n",
    "\n",
    "display(data_income.head())"
   ]
  },
  {
   "cell_type": "markdown",
   "id": "de9b6cb1",
   "metadata": {},
   "source": [
    "#### Шаг 6. Проверка гипотез"
   ]
  },
  {
   "cell_type": "markdown",
   "id": "ba84b559",
   "metadata": {},
   "source": [
    "***6.1*** \n",
    "\n",
    "Проверим гипотезу о том, тратят ли пользователи с подпиской больше времени на поездки, чем пользователи без подписки. Гипотеза правосторонняя, т к проверяется отклонение в одну (правую, бОльшую) сторону.\n",
    "\n",
    "***1)*** Нулевая гипотеза: \"Пользователи с подпиской и пользователи без подписки тратят на поездки в среднем одинаковое количество времени\".\n",
    "\n",
    "***2)*** Альтернативная гипотеза: \"Пользователи с подпиской тратят на поездки больше времени\". \n",
    "\n",
    "В качестве первого массива возьмем столбец длительностей (duration) из таблицы data_ultra (пользователи с подпиской), в качестве второго массива возьмем столбец длительностей (duration) из таблицы data_free (пользователи без подписки). Мы сравниваем данные из первой и второй выборок и в альтернативной гипотезе предполагаем, что среднее выборочное из первого массива больше, поэтому гипотеза правосторонняя. Среднеквадратические отклонения двух выборок отличаются не значительно: 5,55 минут у пользователей с подпиской и 5,97 минут у пользователей без подписки (данные рассчитаны в тех же ячейках, что гистограммы распределения длительности поездок). Поэтому при расчете примем equal_var = True. "
   ]
  },
  {
   "cell_type": "code",
   "execution_count": 25,
   "id": "c823a4e7",
   "metadata": {},
   "outputs": [
    {
     "name": "stdout",
     "output_type": "stream",
     "text": [
      "Средняя длительность поездки у пользователей с подпиской: 18.54198516280583\n",
      "Средняя длительность поездки упользователей без подписки: 17.39090929866399\n",
      "p-value равно 1.2804098316645618e-34\n",
      "Отвергаем нулевую гипотезу.\n"
     ]
    }
   ],
   "source": [
    "duration_ultra = data_ultra['duration']\n",
    "duration_free = data_free['duration']\n",
    "\n",
    "alpha = 0.05\n",
    "\n",
    "print(f'Средняя длительность поездки у пользователей с подпиской: {np.mean(duration_ultra)}')\n",
    "print(f'Средняя длительность поездки упользователей без подписки: {np.mean(duration_free)}')\n",
    "\n",
    "results = st.ttest_ind(duration_ultra, duration_free, equal_var = True, alternative = 'greater')\n",
    "\n",
    "print(f'p-value равно {results.pvalue}')\n",
    "\n",
    "#вывод об отвержении или неотвержении нулевой гипотезы:\n",
    "if results.pvalue<alpha:\n",
    "    print('Отвергаем нулевую гипотезу.')\n",
    "if results.pvalue>alpha:\n",
    "    print('Не получилось отвергнуть нулевую гипотезу.')\n"
   ]
  },
  {
   "cell_type": "markdown",
   "id": "101b1944",
   "metadata": {},
   "source": [
    "Мы получили P-value равное 2,89*10^(-14), это значит, что вероятность случайно получить среднее во второй выборке, равное среднему из первой выборки, ничтожно мала (при условии, что нулевая гипотеза верна). Отвергаем нулевую гипотезу и делаем вывод, что у пользователей с подпиской среднее время поездки больше."
   ]
  },
  {
   "cell_type": "markdown",
   "id": "eeea4b25",
   "metadata": {},
   "source": [
    "***6.2***\n",
    "\n",
    "Можно ли сказать, что среднее расстояние, которое проезжают пользователи с подпиской за одну поездку, не превышает 3130 метров? \n",
    "Предположим, что среднее расстояние которое проезжают пользователи с подпиской РАВНО 3130 метров.\n",
    "Вопрос \"Не превышает ли среднее расстояние 3130 м?\" можно перефразировать так: \"Можно ли сказать, что среднее расстояние меньше или равно 3130 м?\" Нас устроят два варианта: среднее время равно 3130 м и среднее время меньше 3130 м. Поэтому проверим правостороннюю гипотезу (среднее расстояние больше 3130м). Если в результате теста придется принять правую гипотезу (среднее расстояние больше 3130 м), то нельзя будет ответить на поставленный вопрос утвердительно. Если нулевую гипотезу нельзя будет отвергнуть, ответим на вопрос положительно. \n",
    "\n",
    "***Нулевая гипотеза:*** \"Среднее расстояние, которое проезжают пользователи с подпиской, равно 3130 м\".\n",
    "\n",
    "***Альтернативная гипотеза:*** \"Среднее расстояние, которое проезжают пользователи с подпиской, больше 3130 м\"."
   ]
  },
  {
   "cell_type": "code",
   "execution_count": 26,
   "id": "75b7f481",
   "metadata": {},
   "outputs": [
    {
     "name": "stdout",
     "output_type": "stream",
     "text": [
      "Среднее расстояние поездки пользователей с подпиской: 3115.4453880370247\n",
      "Среднее расстояние поездки пользователей без подписки: 3045.495281671816\n",
      "p-value равно 2.6587726976606563e-05\n",
      "Отвергаем нулевую гипотезу.\n"
     ]
    }
   ],
   "source": [
    "distance_ultra = data_ultra['distance']\n",
    "distance_free = data_free['distance']\n",
    "\n",
    "alpha = 0.05\n",
    "\n",
    "print(f'Среднее расстояние поездки пользователей с подпиской: {np.mean(distance_ultra)}')\n",
    "print(f'Среднее расстояние поездки пользователей без подписки: {np.mean(distance_free)}')\n",
    "\n",
    "results_distance = st.ttest_ind(distance_ultra, distance_free, equal_var = True, alternative = 'greater')\n",
    "\n",
    "print(f'p-value равно {results_distance.pvalue}')\n",
    "\n",
    "#вывод об отвержении или неотвержении нулевой гипотезы:\n",
    "if results_distance.pvalue < alpha:\n",
    "    print('Отвергаем нулевую гипотезу.')\n",
    "if results_distance.pvalue > alpha:\n",
    "    print('Не получилось отвергнуть нулевую гипотезу.')"
   ]
  },
  {
   "cell_type": "markdown",
   "id": "5f32bd2e",
   "metadata": {},
   "source": [
    "Высокая p-value говорит о том, что вероятность получить значение, большее, чем во второй выборке (пользователи без подписки), обусловлена случайностью. Значит, среднее во второй выборке (среднее расстояние поездки у пользователей без подписки) в большинстве случаев близко к среднему в первой выборке (пользователи с подпиской).\n",
    "\n",
    "Мы не можем отказаться от нулевой гипотезы в сторону правосторонней, поэтому можно сказать, что среднее расстояние, которое проезжают пользователи с подпиской за одну поездку, не превышает 3130 м."
   ]
  },
  {
   "cell_type": "markdown",
   "id": "cb40b489",
   "metadata": {},
   "source": [
    "***6.3*** \n",
    "\n",
    "Проверим гипотезу о том, будет ли помесячная выручка от пользователей с подпиской по месяцам выше, чем выручка от пользователей без подписки. \n",
    "Создадим две таблицы, в которых будет собрана выручка по месяцам, в первой таблице  - выручка пользователей с подпиской, во второй - без подписки."
   ]
  },
  {
   "cell_type": "code",
   "execution_count": 27,
   "id": "23bb60f3",
   "metadata": {},
   "outputs": [
    {
     "data": {
      "text/html": [
       "<div>\n",
       "<style scoped>\n",
       "    .dataframe tbody tr th:only-of-type {\n",
       "        vertical-align: middle;\n",
       "    }\n",
       "\n",
       "    .dataframe tbody tr th {\n",
       "        vertical-align: top;\n",
       "    }\n",
       "\n",
       "    .dataframe thead th {\n",
       "        text-align: right;\n",
       "    }\n",
       "</style>\n",
       "<table border=\"1\" class=\"dataframe\">\n",
       "  <thead>\n",
       "    <tr style=\"text-align: right;\">\n",
       "      <th></th>\n",
       "      <th></th>\n",
       "      <th>total_distance</th>\n",
       "      <th>total_duration</th>\n",
       "      <th>count_trips</th>\n",
       "      <th>subscription_type</th>\n",
       "      <th>income_per_month</th>\n",
       "    </tr>\n",
       "    <tr>\n",
       "      <th>month</th>\n",
       "      <th>user_id</th>\n",
       "      <th></th>\n",
       "      <th></th>\n",
       "      <th></th>\n",
       "      <th></th>\n",
       "      <th></th>\n",
       "    </tr>\n",
       "  </thead>\n",
       "  <tbody>\n",
       "    <tr>\n",
       "      <th rowspan=\"10\" valign=\"top\">1</th>\n",
       "      <th>1</th>\n",
       "      <td>7027.511294</td>\n",
       "      <td>42.0</td>\n",
       "      <td>2</td>\n",
       "      <td>ultra</td>\n",
       "      <td>451.0</td>\n",
       "    </tr>\n",
       "    <tr>\n",
       "      <th>3</th>\n",
       "      <td>3061.777147</td>\n",
       "      <td>13.0</td>\n",
       "      <td>1</td>\n",
       "      <td>ultra</td>\n",
       "      <td>277.0</td>\n",
       "    </tr>\n",
       "    <tr>\n",
       "      <th>5</th>\n",
       "      <td>3914.646990</td>\n",
       "      <td>13.0</td>\n",
       "      <td>1</td>\n",
       "      <td>ultra</td>\n",
       "      <td>277.0</td>\n",
       "    </tr>\n",
       "    <tr>\n",
       "      <th>7</th>\n",
       "      <td>6478.080979</td>\n",
       "      <td>28.0</td>\n",
       "      <td>2</td>\n",
       "      <td>ultra</td>\n",
       "      <td>367.0</td>\n",
       "    </tr>\n",
       "    <tr>\n",
       "      <th>12</th>\n",
       "      <td>3577.151148</td>\n",
       "      <td>33.0</td>\n",
       "      <td>1</td>\n",
       "      <td>ultra</td>\n",
       "      <td>397.0</td>\n",
       "    </tr>\n",
       "    <tr>\n",
       "      <th>13</th>\n",
       "      <td>6687.987446</td>\n",
       "      <td>42.0</td>\n",
       "      <td>2</td>\n",
       "      <td>ultra</td>\n",
       "      <td>451.0</td>\n",
       "    </tr>\n",
       "    <tr>\n",
       "      <th>14</th>\n",
       "      <td>7699.643820</td>\n",
       "      <td>35.0</td>\n",
       "      <td>2</td>\n",
       "      <td>ultra</td>\n",
       "      <td>409.0</td>\n",
       "    </tr>\n",
       "    <tr>\n",
       "      <th>15</th>\n",
       "      <td>4187.621459</td>\n",
       "      <td>39.0</td>\n",
       "      <td>1</td>\n",
       "      <td>ultra</td>\n",
       "      <td>433.0</td>\n",
       "    </tr>\n",
       "    <tr>\n",
       "      <th>20</th>\n",
       "      <td>3516.719208</td>\n",
       "      <td>29.0</td>\n",
       "      <td>1</td>\n",
       "      <td>ultra</td>\n",
       "      <td>373.0</td>\n",
       "    </tr>\n",
       "    <tr>\n",
       "      <th>22</th>\n",
       "      <td>3058.692225</td>\n",
       "      <td>13.0</td>\n",
       "      <td>1</td>\n",
       "      <td>ultra</td>\n",
       "      <td>277.0</td>\n",
       "    </tr>\n",
       "  </tbody>\n",
       "</table>\n",
       "</div>"
      ],
      "text/plain": [
       "               total_distance  total_duration  count_trips subscription_type  \\\n",
       "month user_id                                                                  \n",
       "1     1           7027.511294            42.0            2             ultra   \n",
       "      3           3061.777147            13.0            1             ultra   \n",
       "      5           3914.646990            13.0            1             ultra   \n",
       "      7           6478.080979            28.0            2             ultra   \n",
       "      12          3577.151148            33.0            1             ultra   \n",
       "      13          6687.987446            42.0            2             ultra   \n",
       "      14          7699.643820            35.0            2             ultra   \n",
       "      15          4187.621459            39.0            1             ultra   \n",
       "      20          3516.719208            29.0            1             ultra   \n",
       "      22          3058.692225            13.0            1             ultra   \n",
       "\n",
       "               income_per_month  \n",
       "month user_id                    \n",
       "1     1                   451.0  \n",
       "      3                   277.0  \n",
       "      5                   277.0  \n",
       "      7                   367.0  \n",
       "      12                  397.0  \n",
       "      13                  451.0  \n",
       "      14                  409.0  \n",
       "      15                  433.0  \n",
       "      20                  373.0  \n",
       "      22                  277.0  "
      ]
     },
     "metadata": {},
     "output_type": "display_data"
    }
   ],
   "source": [
    "#Создадим таблицу, в которой будет выручка по месяцам только по пользователям с подпиской.\n",
    "income_ultra = data_income.loc[data_income['subscription_type'] == 'ultra'] \n",
    "display(income_ultra.head(10))"
   ]
  },
  {
   "cell_type": "code",
   "execution_count": 28,
   "id": "015d5e47",
   "metadata": {},
   "outputs": [
    {
     "data": {
      "text/html": [
       "<div>\n",
       "<style scoped>\n",
       "    .dataframe tbody tr th:only-of-type {\n",
       "        vertical-align: middle;\n",
       "    }\n",
       "\n",
       "    .dataframe tbody tr th {\n",
       "        vertical-align: top;\n",
       "    }\n",
       "\n",
       "    .dataframe thead th {\n",
       "        text-align: right;\n",
       "    }\n",
       "</style>\n",
       "<table border=\"1\" class=\"dataframe\">\n",
       "  <thead>\n",
       "    <tr style=\"text-align: right;\">\n",
       "      <th></th>\n",
       "      <th></th>\n",
       "      <th>total_distance</th>\n",
       "      <th>total_duration</th>\n",
       "      <th>count_trips</th>\n",
       "      <th>subscription_type</th>\n",
       "      <th>income_per_month</th>\n",
       "    </tr>\n",
       "    <tr>\n",
       "      <th>month</th>\n",
       "      <th>user_id</th>\n",
       "      <th></th>\n",
       "      <th></th>\n",
       "      <th></th>\n",
       "      <th></th>\n",
       "      <th></th>\n",
       "    </tr>\n",
       "  </thead>\n",
       "  <tbody>\n",
       "    <tr>\n",
       "      <th rowspan=\"10\" valign=\"top\">1</th>\n",
       "      <th>700</th>\n",
       "      <td>2515.690719</td>\n",
       "      <td>15.0</td>\n",
       "      <td>1</td>\n",
       "      <td>free</td>\n",
       "      <td>170.0</td>\n",
       "    </tr>\n",
       "    <tr>\n",
       "      <th>701</th>\n",
       "      <td>2676.472894</td>\n",
       "      <td>18.0</td>\n",
       "      <td>1</td>\n",
       "      <td>free</td>\n",
       "      <td>194.0</td>\n",
       "    </tr>\n",
       "    <tr>\n",
       "      <th>702</th>\n",
       "      <td>903.861985</td>\n",
       "      <td>16.0</td>\n",
       "      <td>1</td>\n",
       "      <td>free</td>\n",
       "      <td>178.0</td>\n",
       "    </tr>\n",
       "    <tr>\n",
       "      <th>703</th>\n",
       "      <td>3406.580225</td>\n",
       "      <td>24.0</td>\n",
       "      <td>1</td>\n",
       "      <td>free</td>\n",
       "      <td>242.0</td>\n",
       "    </tr>\n",
       "    <tr>\n",
       "      <th>704</th>\n",
       "      <td>3197.139639</td>\n",
       "      <td>18.0</td>\n",
       "      <td>1</td>\n",
       "      <td>free</td>\n",
       "      <td>194.0</td>\n",
       "    </tr>\n",
       "    <tr>\n",
       "      <th>706</th>\n",
       "      <td>7443.193197</td>\n",
       "      <td>37.0</td>\n",
       "      <td>2</td>\n",
       "      <td>free</td>\n",
       "      <td>396.0</td>\n",
       "    </tr>\n",
       "    <tr>\n",
       "      <th>707</th>\n",
       "      <td>7857.433223</td>\n",
       "      <td>44.0</td>\n",
       "      <td>2</td>\n",
       "      <td>free</td>\n",
       "      <td>452.0</td>\n",
       "    </tr>\n",
       "    <tr>\n",
       "      <th>709</th>\n",
       "      <td>3368.357750</td>\n",
       "      <td>25.0</td>\n",
       "      <td>1</td>\n",
       "      <td>free</td>\n",
       "      <td>250.0</td>\n",
       "    </tr>\n",
       "    <tr>\n",
       "      <th>711</th>\n",
       "      <td>9508.637968</td>\n",
       "      <td>61.0</td>\n",
       "      <td>3</td>\n",
       "      <td>free</td>\n",
       "      <td>638.0</td>\n",
       "    </tr>\n",
       "    <tr>\n",
       "      <th>712</th>\n",
       "      <td>2235.247794</td>\n",
       "      <td>19.0</td>\n",
       "      <td>1</td>\n",
       "      <td>free</td>\n",
       "      <td>202.0</td>\n",
       "    </tr>\n",
       "  </tbody>\n",
       "</table>\n",
       "</div>"
      ],
      "text/plain": [
       "               total_distance  total_duration  count_trips subscription_type  \\\n",
       "month user_id                                                                  \n",
       "1     700         2515.690719            15.0            1              free   \n",
       "      701         2676.472894            18.0            1              free   \n",
       "      702          903.861985            16.0            1              free   \n",
       "      703         3406.580225            24.0            1              free   \n",
       "      704         3197.139639            18.0            1              free   \n",
       "      706         7443.193197            37.0            2              free   \n",
       "      707         7857.433223            44.0            2              free   \n",
       "      709         3368.357750            25.0            1              free   \n",
       "      711         9508.637968            61.0            3              free   \n",
       "      712         2235.247794            19.0            1              free   \n",
       "\n",
       "               income_per_month  \n",
       "month user_id                    \n",
       "1     700                 170.0  \n",
       "      701                 194.0  \n",
       "      702                 178.0  \n",
       "      703                 242.0  \n",
       "      704                 194.0  \n",
       "      706                 396.0  \n",
       "      707                 452.0  \n",
       "      709                 250.0  \n",
       "      711                 638.0  \n",
       "      712                 202.0  "
      ]
     },
     "metadata": {},
     "output_type": "display_data"
    }
   ],
   "source": [
    "#Создадим таблицу, в которой будет выручка по месяцам только по пользователям без подписки.\n",
    "income_free = data_income.loc[data_income['subscription_type'] == 'free'] \n",
    "display(income_free.head(10))"
   ]
  },
  {
   "cell_type": "markdown",
   "id": "9b0722e3",
   "metadata": {},
   "source": [
    "Проверим гипотезу о том, будет ли помесячная выручка от пользователей с подпиской по месяцам выше, чем выручка от пользователей без подписки. Исследуем значения в столбце выручки за месц (income_per_month).\n",
    "\n",
    "***1) Нулевая гипотеза:*** Среднемесячная выручка от пользователей с подпиской равна среднемесячной выручке от пользователей без подписки.\n",
    "\n",
    "***2) Альтернативная гипотеза:*** Среднемесячная выручка от пользователей с подпиской больше среднемесячной выручки от пользователей без подписки."
   ]
  },
  {
   "cell_type": "code",
   "execution_count": 29,
   "id": "f8b7177f",
   "metadata": {},
   "outputs": [
    {
     "name": "stdout",
     "output_type": "stream",
     "text": [
      "p-value равно 8.874140893976874e-40\n",
      "Отвергаем нулевую гипотезу.\n"
     ]
    }
   ],
   "source": [
    "income_ultra_series = income_ultra['income_per_month']\n",
    "income_free_series = income_free['income_per_month']\n",
    "\n",
    "alpha = 0.05\n",
    "\n",
    "results_income = st.ttest_ind(income_ultra_series, income_free_series, equal_var = False, alternative = 'greater')\n",
    "\n",
    "print(f'p-value равно {results_income.pvalue}')\n",
    "\n",
    "#вывод об отвержении или неотвержении нулевой гипотезы:\n",
    "if results_income.pvalue < alpha:\n",
    "    print('Отвергаем нулевую гипотезу.')\n",
    "if results_income.pvalue > alpha:\n",
    "    print('Не получилось отвергнуть нулевую гипотезу.')"
   ]
  },
  {
   "cell_type": "markdown",
   "id": "e9b9a7f9",
   "metadata": {},
   "source": [
    "Правосторонний тест показал: вероятность того, что мы случайно получим среднюю выручку у подписчиков равную средней выручке клиентов без подписки, стремится к нулю. Нулевую гипотезу отвергаем в пользу той, что среднемесячная выручка у клиентов с подпиской больше."
   ]
  },
  {
   "cell_type": "markdown",
   "id": "29278289",
   "metadata": {},
   "source": [
    "Попробуем проверить левостороннюю гипотезу: предположим, что среднемесячная выручка у подписчиков меньше, чем средняя у клиентов без подписки. \n",
    "\n",
    "***1) Нулевая гипотеза:*** Среднемесячная выручка от пользователей с подпиской равна среднемесячной выручке от пользователей без подписки.\n",
    "\n",
    "***2) Альтернативная гипотеза:*** Среднемесячная выручка от пользователей с подпиской меньше среднемесячной выручки от пользователей без подписки."
   ]
  },
  {
   "cell_type": "markdown",
   "id": "1d5477ef",
   "metadata": {},
   "source": [
    "Левосторонний тест говорит о том, что получение среднего значения у подписчиков, не меньшего, чем среднее значение второй выборки - это достоверность. В этом случае получается, что вероятность того, что средний показатель подписчиков будет меньше средней выручки не подписанных клиентов, равна нулю."
   ]
  },
  {
   "cell_type": "markdown",
   "id": "519a49d4",
   "metadata": {},
   "source": [
    "***6.4*** \n",
    "\n",
    "Если бы техническая команда сервиса обновила сервера, с которыми взаимодействует мобильное приложение, и надо было бы сравнить количество обращений в техподдержку до и после обновления серверов, в таком случае нужно было бы проверить гипотезу о равенстве среднего генеральной совокупности для зависимых (парных) выборок, применив метод scipy.stats.ttest_rel(). Первым параметром нужно было бы задать данные ПОСЛЕ обновления серверов, вторым параметром данные ДО обновления серверов, значение параметра alternative нужно было бы задать 'less', т к команда техподдержки надеется на то, что количество обращения снизится."
   ]
  },
  {
   "cell_type": "markdown",
   "id": "d5e9fd8a",
   "metadata": {},
   "source": [
    "***Общий вывод:***\n",
    "\n",
    "***1)*** Пользователи равномерно распределены по 8 городам, больше всего клиентов в Пятигорске (219 или 14% от общего числа), минимальное число пользователей - в Москве (168 или 11% от общего числа).\n",
    "\n",
    "***2)*** 54,4% или 835 человек пользуются сервисом без подписки, и чуть меньше половины (45,6% или 699 человек) купили подписку.\n",
    "\n",
    "***3)*** Наибольшей популярностью сервис пользуется у клиентов в возрасте 20-30 лет (около 70% клиентов этого возраста), люди младше 16 и старше 35 лет катаются редко.\n",
    "\n",
    "***4)*** Дальность поездок у большинства пользователей варьируется от 2 до 5 км, самое \"распространенное\" расстояние - 3 км. У пользователей без подписки разброс значений расстояний больше, часто (по сравнению с подписчиками) встречаются поездки дальностью более 4,5 км, и также бывают слишком короткие поездки расстоянием менее 500 м\n",
    "\n",
    "***5)*** Примерно 95% поездок имеют длительность от 7 до 30 минут. Чаще всего поездка длится 17-18 минут. У клиентов без подписки ощутимо много аномально коротких поездок (0,5 минуты), в то же время у этих поездок дальние (больше 4 км) расстояния. Предполагаем, что они были результатом рекламных или подарочных акций с бесплатными минутами.\n",
    "\n",
    "***6)***  В результате теста мы приняли гипотезу о том, что у пользователей с подпиской среднее время поездки больше. Среднее время поездки отличается не значительно (менее 1 минуты).\n",
    "\n",
    "***7)*** По итогам анализа средней длительности поездок у клиентов с подпиской можно сделать вывод, что среднее расстояние, которое проезжают пользователи с подпиской за одну поездку, не превышает 3130 м, что является оптимальным для износа самоката.\n",
    "\n",
    "***8)***  По итогам односторонних тестов приняли гипотезу о том, что среднемесячная выручка от пользователей с подпиской выше."
   ]
  },
  {
   "cell_type": "code",
   "execution_count": null,
   "id": "6b1434c3",
   "metadata": {},
   "outputs": [],
   "source": []
  }
 ],
 "metadata": {
  "kernelspec": {
   "display_name": "Python 3 (ipykernel)",
   "language": "python",
   "name": "python3"
  },
  "language_info": {
   "codemirror_mode": {
    "name": "ipython",
    "version": 3
   },
   "file_extension": ".py",
   "mimetype": "text/x-python",
   "name": "python",
   "nbconvert_exporter": "python",
   "pygments_lexer": "ipython3",
   "version": "3.11.5"
  }
 },
 "nbformat": 4,
 "nbformat_minor": 5
}
